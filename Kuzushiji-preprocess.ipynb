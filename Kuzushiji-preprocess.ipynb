{
 "cells": [
  {
   "cell_type": "code",
   "execution_count": 89,
   "metadata": {},
   "outputs": [],
   "source": [
    "from mlxtend.data import loadlocal_mnist\n",
    "import numpy as np\n",
    "import pandas as pd\n",
    "import matplotlib.pyplot as plt\n",
    "import keras\n",
    "from keras.models import load_model\n",
    "from sklearn.metrics import classification_report, confusion_matrix\n",
    "from sklearn.linear_model import LogisticRegression\n",
    "from sklearn.ensemble import RandomForestClassifier"
   ]
  },
  {
   "cell_type": "code",
   "execution_count": 2,
   "metadata": {},
   "outputs": [],
   "source": [
    "def show_image(e):\n",
    "    if len(e.shape) > 2:\n",
    "        e = e.reshape(28,28)\n",
    "    plt.imshow(e, cmap=plt.get_cmap('gray'))\n",
    "    # show the figure\n",
    "    plt.show()"
   ]
  },
  {
   "cell_type": "markdown",
   "metadata": {},
   "source": [
    "# Dataset\n",
    "\n",
    "\n",
    "We're going to use the Kuzushiji dataset which is a dataset that \n",
    "contains 60000 training images and 10000 testing images in grayscale (one \n",
    "channel) and of size 28x28. Kuzushiji comes in MNIST original format (packed byte-encoded images), so we need a special function to read it.\n"
   ]
  },
  {
   "cell_type": "markdown",
   "metadata": {},
   "source": [
    "The dataset comes in a binary form, so we need some special functions to load it. Details about the format can be found on\n",
    "Yann LeCun's website http://yann.lecun.com/exdb/mnist/"
   ]
  },
  {
   "cell_type": "code",
   "execution_count": 3,
   "metadata": {},
   "outputs": [],
   "source": [
    "X_train, y_train = loadlocal_mnist(\n",
    "        images_path='kuzushiji/train-images-idx3-ubyte', \n",
    "        labels_path='kuzushiji/train-labels-idx1-ubyte')"
   ]
  },
  {
   "cell_type": "code",
   "execution_count": 4,
   "metadata": {},
   "outputs": [],
   "source": [
    "X_test, y_test = loadlocal_mnist(\n",
    "        images_path='kuzushiji/t10k-images-idx3-ubyte', \n",
    "        labels_path='kuzushiji/t10k-labels-idx1-ubyte')"
   ]
  },
  {
   "cell_type": "code",
   "execution_count": 5,
   "metadata": {},
   "outputs": [
    {
     "name": "stdout",
     "output_type": "stream",
     "text": [
      "(60000, 784)\n",
      "(10000, 784)\n"
     ]
    }
   ],
   "source": [
    "print(X_train.shape)\n",
    "print(X_test.shape)"
   ]
  },
  {
   "cell_type": "markdown",
   "metadata": {},
   "source": [
    "We get the following structure:\n",
    "\n",
    "- train: Training dataset\n",
    "    + X: the predictors, 28x28 pixels image in grayscale.\n",
    "    + y: the response\n",
    "- test: Testing datset (with x and y)"
   ]
  },
  {
   "cell_type": "markdown",
   "metadata": {},
   "source": [
    "## Response reencode\n",
    "\n",
    "\n",
    "Notice that in y we have an integer from 0 to 9 (10 classes). They are in fact the following:\n",
    "- 0: お - o\n",
    "- 1: き - ki \n",
    "- 2: す - su \n",
    "- 3: つ - tsu\n",
    "- 4: な - na\n",
    "- 5: は - ha\n",
    "- 6: ま - ma\n",
    "- 7: や - ya\n",
    "- 8: れ - re \n",
    "- 9: を - wo\n",
    "\n",
    "Notice that the japanese symbols you see here (hiragana) are the modern ones."
   ]
  },
  {
   "cell_type": "code",
   "execution_count": 6,
   "metadata": {},
   "outputs": [],
   "source": [
    "class_ref = {\n",
    "    0: \"o\",\n",
    "    1: \"ki\",\n",
    "    2: \"su\",\n",
    "    3: \"tsu\",\n",
    "    4: \"na\",\n",
    "    5: \"ha\",\n",
    "    6: \"ma\",\n",
    "    7: \"ya\",\n",
    "    8: \"re\",\n",
    "    9: \"wo\"\n",
    "}\n",
    "def print_class(e, classes = class_ref):\n",
    "    print(classes[e])"
   ]
  },
  {
   "cell_type": "code",
   "execution_count": 7,
   "metadata": {},
   "outputs": [],
   "source": [
    "y_train_hot = pd.get_dummies(y_train)\n",
    "y_test_hot = pd.get_dummies(y_test)"
   ]
  },
  {
   "cell_type": "code",
   "execution_count": 8,
   "metadata": {},
   "outputs": [
    {
     "data": {
      "text/html": [
       "<div>\n",
       "<style scoped>\n",
       "    .dataframe tbody tr th:only-of-type {\n",
       "        vertical-align: middle;\n",
       "    }\n",
       "\n",
       "    .dataframe tbody tr th {\n",
       "        vertical-align: top;\n",
       "    }\n",
       "\n",
       "    .dataframe thead th {\n",
       "        text-align: right;\n",
       "    }\n",
       "</style>\n",
       "<table border=\"1\" class=\"dataframe\">\n",
       "  <thead>\n",
       "    <tr style=\"text-align: right;\">\n",
       "      <th></th>\n",
       "      <th>0</th>\n",
       "      <th>1</th>\n",
       "      <th>2</th>\n",
       "      <th>3</th>\n",
       "      <th>4</th>\n",
       "      <th>5</th>\n",
       "      <th>6</th>\n",
       "      <th>7</th>\n",
       "      <th>8</th>\n",
       "      <th>9</th>\n",
       "    </tr>\n",
       "  </thead>\n",
       "  <tbody>\n",
       "    <tr>\n",
       "      <th>0</th>\n",
       "      <td>0</td>\n",
       "      <td>0</td>\n",
       "      <td>0</td>\n",
       "      <td>0</td>\n",
       "      <td>0</td>\n",
       "      <td>0</td>\n",
       "      <td>0</td>\n",
       "      <td>0</td>\n",
       "      <td>1</td>\n",
       "      <td>0</td>\n",
       "    </tr>\n",
       "    <tr>\n",
       "      <th>1</th>\n",
       "      <td>0</td>\n",
       "      <td>0</td>\n",
       "      <td>0</td>\n",
       "      <td>0</td>\n",
       "      <td>0</td>\n",
       "      <td>0</td>\n",
       "      <td>0</td>\n",
       "      <td>1</td>\n",
       "      <td>0</td>\n",
       "      <td>0</td>\n",
       "    </tr>\n",
       "    <tr>\n",
       "      <th>2</th>\n",
       "      <td>1</td>\n",
       "      <td>0</td>\n",
       "      <td>0</td>\n",
       "      <td>0</td>\n",
       "      <td>0</td>\n",
       "      <td>0</td>\n",
       "      <td>0</td>\n",
       "      <td>0</td>\n",
       "      <td>0</td>\n",
       "      <td>0</td>\n",
       "    </tr>\n",
       "    <tr>\n",
       "      <th>3</th>\n",
       "      <td>0</td>\n",
       "      <td>1</td>\n",
       "      <td>0</td>\n",
       "      <td>0</td>\n",
       "      <td>0</td>\n",
       "      <td>0</td>\n",
       "      <td>0</td>\n",
       "      <td>0</td>\n",
       "      <td>0</td>\n",
       "      <td>0</td>\n",
       "    </tr>\n",
       "    <tr>\n",
       "      <th>4</th>\n",
       "      <td>0</td>\n",
       "      <td>0</td>\n",
       "      <td>0</td>\n",
       "      <td>0</td>\n",
       "      <td>1</td>\n",
       "      <td>0</td>\n",
       "      <td>0</td>\n",
       "      <td>0</td>\n",
       "      <td>0</td>\n",
       "      <td>0</td>\n",
       "    </tr>\n",
       "    <tr>\n",
       "      <th>...</th>\n",
       "      <td>...</td>\n",
       "      <td>...</td>\n",
       "      <td>...</td>\n",
       "      <td>...</td>\n",
       "      <td>...</td>\n",
       "      <td>...</td>\n",
       "      <td>...</td>\n",
       "      <td>...</td>\n",
       "      <td>...</td>\n",
       "      <td>...</td>\n",
       "    </tr>\n",
       "    <tr>\n",
       "      <th>59995</th>\n",
       "      <td>0</td>\n",
       "      <td>0</td>\n",
       "      <td>0</td>\n",
       "      <td>0</td>\n",
       "      <td>1</td>\n",
       "      <td>0</td>\n",
       "      <td>0</td>\n",
       "      <td>0</td>\n",
       "      <td>0</td>\n",
       "      <td>0</td>\n",
       "    </tr>\n",
       "    <tr>\n",
       "      <th>59996</th>\n",
       "      <td>0</td>\n",
       "      <td>0</td>\n",
       "      <td>0</td>\n",
       "      <td>0</td>\n",
       "      <td>0</td>\n",
       "      <td>0</td>\n",
       "      <td>0</td>\n",
       "      <td>0</td>\n",
       "      <td>0</td>\n",
       "      <td>1</td>\n",
       "    </tr>\n",
       "    <tr>\n",
       "      <th>59997</th>\n",
       "      <td>1</td>\n",
       "      <td>0</td>\n",
       "      <td>0</td>\n",
       "      <td>0</td>\n",
       "      <td>0</td>\n",
       "      <td>0</td>\n",
       "      <td>0</td>\n",
       "      <td>0</td>\n",
       "      <td>0</td>\n",
       "      <td>0</td>\n",
       "    </tr>\n",
       "    <tr>\n",
       "      <th>59998</th>\n",
       "      <td>0</td>\n",
       "      <td>0</td>\n",
       "      <td>0</td>\n",
       "      <td>0</td>\n",
       "      <td>1</td>\n",
       "      <td>0</td>\n",
       "      <td>0</td>\n",
       "      <td>0</td>\n",
       "      <td>0</td>\n",
       "      <td>0</td>\n",
       "    </tr>\n",
       "    <tr>\n",
       "      <th>59999</th>\n",
       "      <td>0</td>\n",
       "      <td>0</td>\n",
       "      <td>0</td>\n",
       "      <td>0</td>\n",
       "      <td>0</td>\n",
       "      <td>0</td>\n",
       "      <td>0</td>\n",
       "      <td>0</td>\n",
       "      <td>0</td>\n",
       "      <td>1</td>\n",
       "    </tr>\n",
       "  </tbody>\n",
       "</table>\n",
       "<p>60000 rows × 10 columns</p>\n",
       "</div>"
      ],
      "text/plain": [
       "       0  1  2  3  4  5  6  7  8  9\n",
       "0      0  0  0  0  0  0  0  0  1  0\n",
       "1      0  0  0  0  0  0  0  1  0  0\n",
       "2      1  0  0  0  0  0  0  0  0  0\n",
       "3      0  1  0  0  0  0  0  0  0  0\n",
       "4      0  0  0  0  1  0  0  0  0  0\n",
       "...   .. .. .. .. .. .. .. .. .. ..\n",
       "59995  0  0  0  0  1  0  0  0  0  0\n",
       "59996  0  0  0  0  0  0  0  0  0  1\n",
       "59997  1  0  0  0  0  0  0  0  0  0\n",
       "59998  0  0  0  0  1  0  0  0  0  0\n",
       "59999  0  0  0  0  0  0  0  0  0  1\n",
       "\n",
       "[60000 rows x 10 columns]"
      ]
     },
     "execution_count": 8,
     "metadata": {},
     "output_type": "execute_result"
    }
   ],
   "source": [
    "y_train_hot"
   ]
  },
  {
   "cell_type": "markdown",
   "metadata": {},
   "source": [
    "# Adding missing dimension"
   ]
  },
  {
   "cell_type": "markdown",
   "metadata": {},
   "source": [
    "Convolutional layers will expect the input to have 4 dimensions:\n",
    "- Sample dimension\n",
    "- Height dimension\n",
    "- Width dimension\n",
    "- Channel dimension\n",
    "\n",
    "In our case we have only one channel as the image is grayscale. If it's a color image we would have 3 or 4 channels (Red, Green, Blue and Alpha (transparency)). We need to add the missing dimension, however this will not modify the data. "
   ]
  },
  {
   "cell_type": "code",
   "execution_count": 9,
   "metadata": {},
   "outputs": [],
   "source": [
    "X_train = X_train.reshape((X_train.shape[0], 28, 28,  1))\n",
    "X_test = X_test.reshape((X_test.shape[0], 28, 28,  1))"
   ]
  },
  {
   "cell_type": "code",
   "execution_count": 10,
   "metadata": {},
   "outputs": [
    {
     "name": "stdout",
     "output_type": "stream",
     "text": [
      "(60000, 28, 28, 1)\n",
      "(10000, 28, 28, 1)\n"
     ]
    }
   ],
   "source": [
    "print(X_train.shape)\n",
    "print(X_test.shape)"
   ]
  },
  {
   "cell_type": "markdown",
   "metadata": {},
   "source": [
    "## Dataset visualization"
   ]
  },
  {
   "cell_type": "code",
   "execution_count": 13,
   "metadata": {},
   "outputs": [
    {
     "data": {
      "image/png": "[encoded data removed]",
      "text/plain": [
       "<Figure size 432x288 with 1 Axes>"
      ]
     },
     "metadata": {
      "needs_background": "light"
     },
     "output_type": "display_data"
    },
    {
     "name": "stdout",
     "output_type": "stream",
     "text": [
      "re\n"
     ]
    }
   ],
   "source": [
    "show_image(X_train[7])\n",
    "print_class(y_train[7])"
   ]
  },
  {
   "cell_type": "code",
   "execution_count": 14,
   "metadata": {},
   "outputs": [
    {
     "data": {
      "image/png": "[encoded data removed]",
      "text/plain": [
       "<Figure size 432x288 with 1 Axes>"
      ]
     },
     "metadata": {
      "needs_background": "light"
     },
     "output_type": "display_data"
    },
    {
     "name": "stdout",
     "output_type": "stream",
     "text": [
      "re\n"
     ]
    }
   ],
   "source": [
    "show_image(X_test[6])\n",
    "print_class(y_test[6])"
   ]
  },
  {
   "cell_type": "markdown",
   "metadata": {},
   "source": [
    "# Creating a dataset for MLP"
   ]
  },
  {
   "cell_type": "code",
   "execution_count": 11,
   "metadata": {},
   "outputs": [
    {
     "data": {
      "text/plain": [
       "(60000, 784)"
      ]
     },
     "execution_count": 11,
     "metadata": {},
     "output_type": "execute_result"
    }
   ],
   "source": [
    "X_train.shape[0], X_train.shape[1] ** 2 "
   ]
  },
  {
   "cell_type": "code",
   "execution_count": 57,
   "metadata": {},
   "outputs": [],
   "source": [
    "X_train_mlp = X_train.reshape((X_train.shape[0], X_train.shape[1] ** 2))\n",
    "X_test_mlp = X_test.reshape((X_test.shape[0], X_test.shape[1] ** 2))"
   ]
  },
  {
   "cell_type": "markdown",
   "metadata": {},
   "source": [
    "### Additional Tools"
   ]
  },
  {
   "cell_type": "code",
   "execution_count": 99,
   "metadata": {},
   "outputs": [],
   "source": [
    "def print_acc(conf_mat):\n",
    "    size = conf_mat.shape[1]\n",
    "    ok = 0\n",
    "    i = 0\n",
    "    while i < size:\n",
    "        ok += conf_mat[i,i]\n",
    "        i += 1\n",
    "    return(ok/sum(sum(conf_mat)))\n",
    "\n",
    "def plot_history(history):\n",
    "    plt.plot(history.history['accuracy'])\n",
    "    plt.plot(history.history['val_accuracy'])\n",
    "    plt.title('model accuracy')\n",
    "    plt.ylabel('accuracy')\n",
    "    plt.xlabel('epoch')\n",
    "    plt.legend(['train', 'val'], loc='upper left')\n",
    "    plt.show()"
   ]
  },
  {
   "cell_type": "markdown",
   "metadata": {},
   "source": [
    "#### We start by using Lenet Architecture:"
   ]
  },
  {
   "cell_type": "code",
   "execution_count": 14,
   "metadata": {},
   "outputs": [],
   "source": [
    "lenet = keras.Sequential([\n",
    "    # First convolutional block\n",
    "    keras.layers.Conv2D(filters=20, kernel_size=(5,5), activation=\"tanh\",\n",
    "        input_shape=(28,28,1), padding=\"same\"),\n",
    "    keras.layers.MaxPool2D(pool_size=(2,2),strides=(2,2)),\n",
    "    # Second convolutional block\n",
    "    keras.layers.Conv2D(filters=50, kernel_size=(5,5), activation=\"tanh\",\n",
    "        padding=\"same\"),\n",
    "    keras.layers.MaxPool2D(pool_size=(2,2),strides=(2,2)),\n",
    "    # Flatten the matrix to a vector for the fully connected layers\n",
    "    keras.layers.Flatten(),\n",
    "    # First fully connected block\n",
    "    keras.layers.Dense(units=500, activation=\"tanh\"),\n",
    "    # Second fully connected block\n",
    "    keras.layers.Dense(units=10, activation=\"softmax\")\n",
    "    # This last layer will produce the final classification (probability of \n",
    "    # belonging to a class). 10 different units, 10 different classes.\n",
    "])"
   ]
  },
  {
   "cell_type": "code",
   "execution_count": 15,
   "metadata": {},
   "outputs": [
    {
     "name": "stdout",
     "output_type": "stream",
     "text": [
      "Model: \"sequential\"\n",
      "_________________________________________________________________\n",
      "Layer (type)                 Output Shape              Param #   \n",
      "=================================================================\n",
      "conv2d (Conv2D)              (None, 28, 28, 20)        520       \n",
      "_________________________________________________________________\n",
      "max_pooling2d (MaxPooling2D) (None, 14, 14, 20)        0         \n",
      "_________________________________________________________________\n",
      "conv2d_1 (Conv2D)            (None, 14, 14, 50)        25050     \n",
      "_________________________________________________________________\n",
      "max_pooling2d_1 (MaxPooling2 (None, 7, 7, 50)          0         \n",
      "_________________________________________________________________\n",
      "flatten (Flatten)            (None, 2450)              0         \n",
      "_________________________________________________________________\n",
      "dense (Dense)                (None, 500)               1225500   \n",
      "_________________________________________________________________\n",
      "dense_1 (Dense)              (None, 10)                5010      \n",
      "=================================================================\n",
      "Total params: 1,256,080\n",
      "Trainable params: 1,256,080\n",
      "Non-trainable params: 0\n",
      "_________________________________________________________________\n"
     ]
    }
   ],
   "source": [
    "lenet.summary()"
   ]
  },
  {
   "cell_type": "code",
   "execution_count": 16,
   "metadata": {},
   "outputs": [],
   "source": [
    "sgd = keras.optimizers.SGD(lr = 0.05, decay = 0.001, momentum = 0.8)"
   ]
  },
  {
   "cell_type": "code",
   "execution_count": 17,
   "metadata": {},
   "outputs": [],
   "source": [
    "lenet.compile(\n",
    "    optimizer = sgd,\n",
    "    loss = \"categorical_crossentropy\",\n",
    "    metrics = [\"accuracy\"]\n",
    ")"
   ]
  },
  {
   "cell_type": "code",
   "execution_count": 18,
   "metadata": {},
   "outputs": [
    {
     "name": "stdout",
     "output_type": "stream",
     "text": [
      "Epoch 1/10\n",
      "960/960 [==============================] - 55s 57ms/step - loss: 0.4057 - accuracy: 0.8864 - val_loss: 0.1639 - val_accuracy: 0.9519\n",
      "Epoch 2/10\n",
      "960/960 [==============================] - 56s 59ms/step - loss: 0.0915 - accuracy: 0.9721 - val_loss: 0.1042 - val_accuracy: 0.9681\n",
      "Epoch 3/10\n",
      "960/960 [==============================] - 56s 58ms/step - loss: 0.0463 - accuracy: 0.9876 - val_loss: 0.0889 - val_accuracy: 0.9724\n",
      "Epoch 4/10\n",
      "960/960 [==============================] - 55s 58ms/step - loss: 0.0270 - accuracy: 0.9940 - val_loss: 0.0852 - val_accuracy: 0.9752\n",
      "Epoch 5/10\n",
      "960/960 [==============================] - 57s 59ms/step - loss: 0.0184 - accuracy: 0.9972 - val_loss: 0.0821 - val_accuracy: 0.9747\n",
      "Epoch 6/10\n",
      "960/960 [==============================] - 56s 58ms/step - loss: 0.0134 - accuracy: 0.9985 - val_loss: 0.0805 - val_accuracy: 0.9758\n",
      "Epoch 7/10\n",
      "960/960 [==============================] - 55s 57ms/step - loss: 0.0107 - accuracy: 0.9992 - val_loss: 0.0810 - val_accuracy: 0.9749\n",
      "Epoch 8/10\n",
      "960/960 [==============================] - 58s 60ms/step - loss: 0.0089 - accuracy: 0.9995 - val_loss: 0.0799 - val_accuracy: 0.9756\n",
      "Epoch 9/10\n",
      "960/960 [==============================] - 58s 60ms/step - loss: 0.0077 - accuracy: 0.9998 - val_loss: 0.0795 - val_accuracy: 0.9759\n",
      "Epoch 10/10\n",
      "960/960 [==============================] - 56s 58ms/step - loss: 0.0069 - accuracy: 0.9998 - val_loss: 0.0796 - val_accuracy: 0.9761\n"
     ]
    }
   ],
   "source": [
    "history = lenet.fit(\n",
    "    X_train, y_train_hot,\n",
    "    batch_size = 50, validation_split = 0.2, epochs = 10\n",
    ")"
   ]
  },
  {
   "cell_type": "code",
   "execution_count": 19,
   "metadata": {},
   "outputs": [
    {
     "data": {
      "image/png": "[encoded data removed]",
      "text/plain": [
       "<Figure size 432x288 with 1 Axes>"
      ]
     },
     "metadata": {
      "needs_background": "light"
     },
     "output_type": "display_data"
    }
   ],
   "source": [
    "plot_history(history)"
   ]
  },
  {
   "cell_type": "code",
   "execution_count": 38,
   "metadata": {},
   "outputs": [],
   "source": [
    "lenet.save(\"lenet-kuzushiji.h5\")"
   ]
  },
  {
   "cell_type": "code",
   "execution_count": 22,
   "metadata": {},
   "outputs": [],
   "source": [
    "lenet = load_model(\"lenet-kuzushiji.h5\")"
   ]
  },
  {
   "cell_type": "code",
   "execution_count": 23,
   "metadata": {},
   "outputs": [
    {
     "name": "stdout",
     "output_type": "stream",
     "text": [
      "313/313 [==============================] - 2s 6ms/step - loss: 0.2553 - accuracy: 0.9339\n",
      "Loss: 0.25530871748924255, Accuracy: 0.933899998664856\n"
     ]
    }
   ],
   "source": [
    "per_test = lenet.evaluate(X_test, y_test_hot)\n",
    "print(\"Loss: {}, Accuracy: {}\".format(per_test[0], per_test[1]))"
   ]
  },
  {
   "cell_type": "code",
   "execution_count": 24,
   "metadata": {},
   "outputs": [],
   "source": [
    "pred_cnn = lenet.predict(X_test)"
   ]
  },
  {
   "cell_type": "code",
   "execution_count": 25,
   "metadata": {},
   "outputs": [
    {
     "name": "stdout",
     "output_type": "stream",
     "text": [
      "              precision    recall  f1-score   support\n",
      "\n",
      "           o       0.94      0.95      0.94      1000\n",
      "          ki       0.93      0.92      0.92      1000\n",
      "          su       0.92      0.89      0.90      1000\n",
      "         tsu       0.93      0.97      0.95      1000\n",
      "          na       0.92      0.91      0.92      1000\n",
      "          ha       0.96      0.92      0.94      1000\n",
      "          ma       0.91      0.97      0.94      1000\n",
      "          ya       0.96      0.93      0.94      1000\n",
      "          re       0.93      0.95      0.94      1000\n",
      "          wo       0.95      0.94      0.94      1000\n",
      "\n",
      "    accuracy                           0.93     10000\n",
      "   macro avg       0.93      0.93      0.93     10000\n",
      "weighted avg       0.93      0.93      0.93     10000\n",
      "\n"
     ]
    }
   ],
   "source": [
    "print(classification_report(y_test_hot.values.argmax(axis=1),\n",
    "                            pred_cnn.argmax(axis=1),\n",
    "                            target_names=class_ref.values()))"
   ]
  },
  {
   "cell_type": "code",
   "execution_count": 26,
   "metadata": {},
   "outputs": [
    {
     "data": {
      "text/html": [
       "<div>\n",
       "<style scoped>\n",
       "    .dataframe tbody tr th:only-of-type {\n",
       "        vertical-align: middle;\n",
       "    }\n",
       "\n",
       "    .dataframe tbody tr th {\n",
       "        vertical-align: top;\n",
       "    }\n",
       "\n",
       "    .dataframe thead th {\n",
       "        text-align: right;\n",
       "    }\n",
       "</style>\n",
       "<table border=\"1\" class=\"dataframe\">\n",
       "  <thead>\n",
       "    <tr style=\"text-align: right;\">\n",
       "      <th></th>\n",
       "      <th>o</th>\n",
       "      <th>ki</th>\n",
       "      <th>su</th>\n",
       "      <th>tsu</th>\n",
       "      <th>na</th>\n",
       "      <th>ha</th>\n",
       "      <th>ma</th>\n",
       "      <th>ya</th>\n",
       "      <th>re</th>\n",
       "      <th>wo</th>\n",
       "    </tr>\n",
       "  </thead>\n",
       "  <tbody>\n",
       "    <tr>\n",
       "      <th>o</th>\n",
       "      <td>949</td>\n",
       "      <td>4</td>\n",
       "      <td>2</td>\n",
       "      <td>0</td>\n",
       "      <td>22</td>\n",
       "      <td>9</td>\n",
       "      <td>1</td>\n",
       "      <td>5</td>\n",
       "      <td>6</td>\n",
       "      <td>2</td>\n",
       "    </tr>\n",
       "    <tr>\n",
       "      <th>ki</th>\n",
       "      <td>3</td>\n",
       "      <td>915</td>\n",
       "      <td>15</td>\n",
       "      <td>0</td>\n",
       "      <td>9</td>\n",
       "      <td>3</td>\n",
       "      <td>37</td>\n",
       "      <td>1</td>\n",
       "      <td>7</td>\n",
       "      <td>10</td>\n",
       "    </tr>\n",
       "    <tr>\n",
       "      <th>su</th>\n",
       "      <td>9</td>\n",
       "      <td>6</td>\n",
       "      <td>889</td>\n",
       "      <td>35</td>\n",
       "      <td>5</td>\n",
       "      <td>12</td>\n",
       "      <td>13</td>\n",
       "      <td>14</td>\n",
       "      <td>10</td>\n",
       "      <td>7</td>\n",
       "    </tr>\n",
       "    <tr>\n",
       "      <th>tsu</th>\n",
       "      <td>3</td>\n",
       "      <td>4</td>\n",
       "      <td>12</td>\n",
       "      <td>969</td>\n",
       "      <td>2</td>\n",
       "      <td>3</td>\n",
       "      <td>4</td>\n",
       "      <td>0</td>\n",
       "      <td>1</td>\n",
       "      <td>2</td>\n",
       "    </tr>\n",
       "    <tr>\n",
       "      <th>na</th>\n",
       "      <td>23</td>\n",
       "      <td>6</td>\n",
       "      <td>1</td>\n",
       "      <td>8</td>\n",
       "      <td>909</td>\n",
       "      <td>7</td>\n",
       "      <td>10</td>\n",
       "      <td>8</td>\n",
       "      <td>24</td>\n",
       "      <td>4</td>\n",
       "    </tr>\n",
       "    <tr>\n",
       "      <th>ha</th>\n",
       "      <td>3</td>\n",
       "      <td>8</td>\n",
       "      <td>27</td>\n",
       "      <td>11</td>\n",
       "      <td>6</td>\n",
       "      <td>923</td>\n",
       "      <td>10</td>\n",
       "      <td>1</td>\n",
       "      <td>3</td>\n",
       "      <td>8</td>\n",
       "    </tr>\n",
       "    <tr>\n",
       "      <th>ma</th>\n",
       "      <td>3</td>\n",
       "      <td>2</td>\n",
       "      <td>11</td>\n",
       "      <td>3</td>\n",
       "      <td>7</td>\n",
       "      <td>1</td>\n",
       "      <td>967</td>\n",
       "      <td>3</td>\n",
       "      <td>2</td>\n",
       "      <td>1</td>\n",
       "    </tr>\n",
       "    <tr>\n",
       "      <th>ya</th>\n",
       "      <td>5</td>\n",
       "      <td>9</td>\n",
       "      <td>4</td>\n",
       "      <td>2</td>\n",
       "      <td>14</td>\n",
       "      <td>2</td>\n",
       "      <td>7</td>\n",
       "      <td>930</td>\n",
       "      <td>10</td>\n",
       "      <td>17</td>\n",
       "    </tr>\n",
       "    <tr>\n",
       "      <th>re</th>\n",
       "      <td>5</td>\n",
       "      <td>19</td>\n",
       "      <td>1</td>\n",
       "      <td>8</td>\n",
       "      <td>6</td>\n",
       "      <td>3</td>\n",
       "      <td>6</td>\n",
       "      <td>0</td>\n",
       "      <td>950</td>\n",
       "      <td>2</td>\n",
       "    </tr>\n",
       "    <tr>\n",
       "      <th>wo</th>\n",
       "      <td>7</td>\n",
       "      <td>8</td>\n",
       "      <td>9</td>\n",
       "      <td>2</td>\n",
       "      <td>6</td>\n",
       "      <td>3</td>\n",
       "      <td>6</td>\n",
       "      <td>11</td>\n",
       "      <td>10</td>\n",
       "      <td>938</td>\n",
       "    </tr>\n",
       "  </tbody>\n",
       "</table>\n",
       "</div>"
      ],
      "text/plain": [
       "       o   ki   su  tsu   na   ha   ma   ya   re   wo\n",
       "o    949    4    2    0   22    9    1    5    6    2\n",
       "ki     3  915   15    0    9    3   37    1    7   10\n",
       "su     9    6  889   35    5   12   13   14   10    7\n",
       "tsu    3    4   12  969    2    3    4    0    1    2\n",
       "na    23    6    1    8  909    7   10    8   24    4\n",
       "ha     3    8   27   11    6  923   10    1    3    8\n",
       "ma     3    2   11    3    7    1  967    3    2    1\n",
       "ya     5    9    4    2   14    2    7  930   10   17\n",
       "re     5   19    1    8    6    3    6    0  950    2\n",
       "wo     7    8    9    2    6    3    6   11   10  938"
      ]
     },
     "execution_count": 26,
     "metadata": {},
     "output_type": "execute_result"
    }
   ],
   "source": [
    "pd.DataFrame(\n",
    "    confusion_matrix(\n",
    "        y_test_hot.values.argmax(axis=1)\n",
    "        ,pred_cnn.argmax(axis=1)\n",
    "    ),\n",
    "    index = class_ref.values(),\n",
    "    columns = class_ref.values()\n",
    ")"
   ]
  },
  {
   "cell_type": "markdown",
   "metadata": {},
   "source": [
    "#### Adding more Convolutional Layers:"
   ]
  },
  {
   "cell_type": "code",
   "execution_count": 151,
   "metadata": {},
   "outputs": [],
   "source": [
    "convLenet = keras.Sequential([\n",
    "    keras.layers.Conv2D(filters=20, kernel_size=(5,5), activation=\"tanh\",\n",
    "        input_shape=(28,28,1), padding=\"same\"),\n",
    "    keras.layers.Conv2D(filters=50, kernel_size=(5,5), activation=\"tanh\",\n",
    "        padding=\"same\"),\n",
    "    keras.layers.MaxPool2D(pool_size=(2,2),strides=(2,2)),\n",
    "    keras.layers.Conv2D(filters=80, kernel_size=(5,5), activation=\"tanh\",\n",
    "        padding=\"same\"),\n",
    "    keras.layers.MaxPool2D(pool_size=(2,2),strides=(2,2)),\n",
    "    keras.layers.Conv2D(filters=110, kernel_size=(5,5), activation=\"tanh\",\n",
    "        padding=\"same\"),\n",
    "    keras.layers.Flatten(),\n",
    "    keras.layers.Dense(units=500, activation=\"tanh\"),\n",
    "    keras.layers.Dense(units=10, activation=\"softmax\")\n",
    "])"
   ]
  },
  {
   "cell_type": "code",
   "execution_count": 152,
   "metadata": {},
   "outputs": [
    {
     "name": "stdout",
     "output_type": "stream",
     "text": [
      "Model: \"sequential_37\"\n",
      "_________________________________________________________________\n",
      "Layer (type)                 Output Shape              Param #   \n",
      "=================================================================\n",
      "conv2d_116 (Conv2D)          (None, 28, 28, 20)        520       \n",
      "_________________________________________________________________\n",
      "conv2d_117 (Conv2D)          (None, 28, 28, 50)        25050     \n",
      "_________________________________________________________________\n",
      "max_pooling2d_86 (MaxPooling (None, 14, 14, 50)        0         \n",
      "_________________________________________________________________\n",
      "conv2d_118 (Conv2D)          (None, 14, 14, 80)        100080    \n",
      "_________________________________________________________________\n",
      "max_pooling2d_87 (MaxPooling (None, 7, 7, 80)          0         \n",
      "_________________________________________________________________\n",
      "conv2d_119 (Conv2D)          (None, 7, 7, 110)         220110    \n",
      "_________________________________________________________________\n",
      "flatten_31 (Flatten)         (None, 5390)              0         \n",
      "_________________________________________________________________\n",
      "dense_111 (Dense)            (None, 500)               2695500   \n",
      "_________________________________________________________________\n",
      "dense_112 (Dense)            (None, 10)                5010      \n",
      "=================================================================\n",
      "Total params: 3,046,270\n",
      "Trainable params: 3,046,270\n",
      "Non-trainable params: 0\n",
      "_________________________________________________________________\n"
     ]
    }
   ],
   "source": [
    "convLenet.summary()"
   ]
  },
  {
   "cell_type": "code",
   "execution_count": 153,
   "metadata": {},
   "outputs": [],
   "source": [
    "sgd = keras.optimizers.SGD(lr = 0.05, decay = 0.001, momentum = 0.8)"
   ]
  },
  {
   "cell_type": "code",
   "execution_count": 154,
   "metadata": {},
   "outputs": [],
   "source": [
    "convLenet.compile(\n",
    "    optimizer = sgd,\n",
    "    loss = \"categorical_crossentropy\",\n",
    "    metrics = [\"accuracy\"]\n",
    ")"
   ]
  },
  {
   "cell_type": "code",
   "execution_count": 155,
   "metadata": {},
   "outputs": [
    {
     "name": "stdout",
     "output_type": "stream",
     "text": [
      "Epoch 1/10\n",
      "960/960 [==============================] - 236s 245ms/step - loss: 1.3773 - accuracy: 0.6794 - val_loss: 0.4801 - val_accuracy: 0.8469\n",
      "Epoch 2/10\n",
      "960/960 [==============================] - 237s 247ms/step - loss: 0.3718 - accuracy: 0.8827 - val_loss: 0.3330 - val_accuracy: 0.8957\n",
      "Epoch 3/10\n",
      "960/960 [==============================] - 237s 246ms/step - loss: 0.2368 - accuracy: 0.9267 - val_loss: 0.2078 - val_accuracy: 0.9363\n",
      "Epoch 4/10\n",
      "960/960 [==============================] - 263s 274ms/step - loss: 0.1631 - accuracy: 0.9495 - val_loss: 0.1688 - val_accuracy: 0.9476\n",
      "Epoch 5/10\n",
      "960/960 [==============================] - 280s 292ms/step - loss: 0.1275 - accuracy: 0.9611 - val_loss: 0.1537 - val_accuracy: 0.9542\n",
      "Epoch 6/10\n",
      "960/960 [==============================] - 307s 320ms/step - loss: 0.1007 - accuracy: 0.9688 - val_loss: 0.1462 - val_accuracy: 0.9554\n",
      "Epoch 7/10\n",
      "960/960 [==============================] - 304s 316ms/step - loss: 0.0800 - accuracy: 0.9762 - val_loss: 0.1320 - val_accuracy: 0.9619\n",
      "Epoch 8/10\n",
      "960/960 [==============================] - 299s 311ms/step - loss: 0.0651 - accuracy: 0.9813 - val_loss: 0.1258 - val_accuracy: 0.9624\n",
      "Epoch 9/10\n",
      "960/960 [==============================] - 287s 299ms/step - loss: 0.0540 - accuracy: 0.9855 - val_loss: 0.1229 - val_accuracy: 0.9640\n",
      "Epoch 10/10\n",
      "960/960 [==============================] - 233s 243ms/step - loss: 0.0465 - accuracy: 0.9881 - val_loss: 0.1190 - val_accuracy: 0.9657\n"
     ]
    }
   ],
   "source": [
    "history5 = convLenet.fit(\n",
    "    X_train, y_train_hot,\n",
    "    batch_size = 50, validation_split = 0.2, epochs = 10\n",
    ")"
   ]
  },
  {
   "cell_type": "code",
   "execution_count": 157,
   "metadata": {},
   "outputs": [
    {
     "data": {
      "image/png": "[encoded data removed]",
      "text/plain": [
       "<Figure size 432x288 with 1 Axes>"
      ]
     },
     "metadata": {
      "needs_background": "light"
     },
     "output_type": "display_data"
    }
   ],
   "source": [
    "plot_history(history5)"
   ]
  },
  {
   "cell_type": "code",
   "execution_count": 159,
   "metadata": {},
   "outputs": [
    {
     "name": "stdout",
     "output_type": "stream",
     "text": [
      "313/313 [==============================] - 7s 23ms/step - loss: 0.2941 - accuracy: 0.9168\n",
      "Loss: 0.2941133677959442, Accuracy: 0.9168000221252441\n"
     ]
    }
   ],
   "source": [
    "per_test5 = convLenet.evaluate(X_test, y_test_hot)\n",
    "print(\"Loss: {}, Accuracy: {}\".format(per_test5[0], per_test5[1]))"
   ]
  },
  {
   "cell_type": "code",
   "execution_count": 160,
   "metadata": {},
   "outputs": [],
   "source": [
    "convLenet.save(\"convLenet.h5\")"
   ]
  },
  {
   "cell_type": "markdown",
   "metadata": {},
   "source": [
    "#### Let's try to add some Regularization:"
   ]
  },
  {
   "cell_type": "code",
   "execution_count": 143,
   "metadata": {},
   "outputs": [],
   "source": [
    "arnaldNet = keras.Sequential([\n",
    "    keras.layers.Conv2D(filters=20, kernel_size=(5,5), activation=\"tanh\",\n",
    "        input_shape=(28,28,1), padding=\"same\"),\n",
    "    keras.layers.MaxPool2D(pool_size=(2,2),strides=(2,2)),\n",
    "    # Adding Regularization\n",
    "    keras.layers.Dropout(rate = 0.25),\n",
    "    keras.layers.Conv2D(filters=50, kernel_size=(5,5), activation=\"tanh\",\n",
    "        padding=\"same\"),\n",
    "    keras.layers.MaxPool2D(pool_size=(2,2),strides=(2,2)),\n",
    "    # Adding Regularization\n",
    "    keras.layers.Dropout(rate = 0.1),\n",
    "    keras.layers.Conv2D(filters=100, kernel_size=(5,5), activation=\"tanh\",\n",
    "        padding=\"same\"),\n",
    "    keras.layers.Flatten(),\n",
    "    # Adding 2 sequential Fully-Connected Layers:\n",
    "    keras.layers.Dense(units=500, activation=\"tanh\"),\n",
    "    keras.layers.Dense(units=250, activation=\"tanh\"),\n",
    "    keras.layers.Dense(units=10, activation=\"softmax\")\n",
    "])"
   ]
  },
  {
   "cell_type": "code",
   "execution_count": 144,
   "metadata": {},
   "outputs": [
    {
     "name": "stdout",
     "output_type": "stream",
     "text": [
      "Model: \"sequential_33\"\n",
      "_________________________________________________________________\n",
      "Layer (type)                 Output Shape              Param #   \n",
      "=================================================================\n",
      "conv2d_101 (Conv2D)          (None, 28, 28, 20)        520       \n",
      "_________________________________________________________________\n",
      "max_pooling2d_79 (MaxPooling (None, 14, 14, 20)        0         \n",
      "_________________________________________________________________\n",
      "dropout_70 (Dropout)         (None, 14, 14, 20)        0         \n",
      "_________________________________________________________________\n",
      "conv2d_102 (Conv2D)          (None, 14, 14, 50)        25050     \n",
      "_________________________________________________________________\n",
      "max_pooling2d_80 (MaxPooling (None, 7, 7, 50)          0         \n",
      "_________________________________________________________________\n",
      "dropout_71 (Dropout)         (None, 7, 7, 50)          0         \n",
      "_________________________________________________________________\n",
      "conv2d_103 (Conv2D)          (None, 7, 7, 100)         125100    \n",
      "_________________________________________________________________\n",
      "flatten_27 (Flatten)         (None, 4900)              0         \n",
      "_________________________________________________________________\n",
      "dense_102 (Dense)            (None, 500)               2450500   \n",
      "_________________________________________________________________\n",
      "dense_103 (Dense)            (None, 250)               125250    \n",
      "_________________________________________________________________\n",
      "dense_104 (Dense)            (None, 10)                2510      \n",
      "=================================================================\n",
      "Total params: 2,728,930\n",
      "Trainable params: 2,728,930\n",
      "Non-trainable params: 0\n",
      "_________________________________________________________________\n"
     ]
    }
   ],
   "source": [
    "arnaldNet.summary()"
   ]
  },
  {
   "cell_type": "code",
   "execution_count": 48,
   "metadata": {},
   "outputs": [],
   "source": [
    "sgd = keras.optimizers.SGD(lr = 0.05, decay = 0.001, momentum = 0.8)"
   ]
  },
  {
   "cell_type": "code",
   "execution_count": 49,
   "metadata": {},
   "outputs": [],
   "source": [
    "arnaldNet.compile(\n",
    "    optimizer = sgd,\n",
    "    loss = \"categorical_crossentropy\",\n",
    "    metrics = [\"accuracy\"]\n",
    ")"
   ]
  },
  {
   "cell_type": "code",
   "execution_count": 50,
   "metadata": {},
   "outputs": [
    {
     "name": "stdout",
     "output_type": "stream",
     "text": [
      "Epoch 1/10\n",
      "960/960 [==============================] - 89s 93ms/step - loss: 0.4599 - accuracy: 0.8588 - val_loss: 0.1924 - val_accuracy: 0.9385\n",
      "Epoch 2/10\n",
      "960/960 [==============================] - 87s 91ms/step - loss: 0.1348 - accuracy: 0.9576 - val_loss: 0.1279 - val_accuracy: 0.9624\n",
      "Epoch 3/10\n",
      "960/960 [==============================] - 88s 92ms/step - loss: 0.0790 - accuracy: 0.9755 - val_loss: 0.1148 - val_accuracy: 0.9664\n",
      "Epoch 4/10\n",
      "960/960 [==============================] - 91s 95ms/step - loss: 0.0475 - accuracy: 0.9863 - val_loss: 0.0952 - val_accuracy: 0.9712\n",
      "Epoch 5/10\n",
      "960/960 [==============================] - 89s 93ms/step - loss: 0.0322 - accuracy: 0.9912 - val_loss: 0.0895 - val_accuracy: 0.9742\n",
      "Epoch 6/10\n",
      "960/960 [==============================] - 89s 92ms/step - loss: 0.0220 - accuracy: 0.9942 - val_loss: 0.0849 - val_accuracy: 0.9759\n",
      "Epoch 7/10\n",
      "960/960 [==============================] - 88s 92ms/step - loss: 0.0166 - accuracy: 0.9963 - val_loss: 0.0859 - val_accuracy: 0.9760\n",
      "Epoch 8/10\n",
      "960/960 [==============================] - 91s 95ms/step - loss: 0.0129 - accuracy: 0.9975 - val_loss: 0.0859 - val_accuracy: 0.9762\n",
      "Epoch 9/10\n",
      "960/960 [==============================] - 90s 94ms/step - loss: 0.0109 - accuracy: 0.9981 - val_loss: 0.0848 - val_accuracy: 0.9772\n",
      "Epoch 10/10\n",
      "960/960 [==============================] - 87s 90ms/step - loss: 0.0095 - accuracy: 0.9983 - val_loss: 0.0855 - val_accuracy: 0.9776\n"
     ]
    }
   ],
   "source": [
    "history2 = arnaldNet.fit(\n",
    "    X_train, y_train_hot,\n",
    "    batch_size = 50, validation_split = 0.2, epochs = 10\n",
    ")"
   ]
  },
  {
   "cell_type": "code",
   "execution_count": 51,
   "metadata": {},
   "outputs": [
    {
     "data": {
      "image/png": "[encoded data removed]",
      "text/plain": [
       "<Figure size 432x288 with 1 Axes>"
      ]
     },
     "metadata": {
      "needs_background": "light"
     },
     "output_type": "display_data"
    }
   ],
   "source": [
    "plot_history(history2)"
   ]
  },
  {
   "cell_type": "code",
   "execution_count": null,
   "metadata": {},
   "outputs": [],
   "source": [
    "arnaldNet = load_model(\"arnaldNet_v1.h5\")"
   ]
  },
  {
   "cell_type": "code",
   "execution_count": 52,
   "metadata": {},
   "outputs": [
    {
     "name": "stdout",
     "output_type": "stream",
     "text": [
      "313/313 [==============================] - 3s 10ms/step - loss: 0.2223 - accuracy: 0.9427\n",
      "Loss: 0.2222558856010437, Accuracy: 0.9427000284194946\n"
     ]
    }
   ],
   "source": [
    "per_test2 = arnaldNet.evaluate(X_test, y_test_hot)\n",
    "print(\"Loss: {}, Accuracy: {}\".format(per_test2[0], per_test2[1]))"
   ]
  },
  {
   "cell_type": "code",
   "execution_count": 62,
   "metadata": {},
   "outputs": [],
   "source": [
    "arnaldNet.save(\"arnaldNet_v1.h5\")"
   ]
  },
  {
   "cell_type": "markdown",
   "metadata": {},
   "source": [
    "#### Traditional MLP:"
   ]
  },
  {
   "cell_type": "code",
   "execution_count": 59,
   "metadata": {},
   "outputs": [],
   "source": [
    "mlp_r = keras.Sequential([\n",
    "    keras.layers.Dense(units = 128, activation = \"relu\", input_shape = (X_train_mlp.shape[1],)),\n",
    "    keras.layers.Dropout(rate = 0.25),\n",
    "    keras.layers.Dense(units = 64, activation = \"relu\"),\n",
    "    keras.layers.Dropout(rate = 0.1),\n",
    "    keras.layers.Dense(units = 32, activation = \"relu\"),\n",
    "    keras.layers.Dropout(rate = 0.1),\n",
    "    keras.layers.Dense(units = 16, activation = \"relu\"),\n",
    "    keras.layers.Dropout(rate = 0.01),\n",
    "    keras.layers.Dense(units = 10, activation = \"softmax\")\n",
    "])"
   ]
  },
  {
   "cell_type": "code",
   "execution_count": 60,
   "metadata": {},
   "outputs": [],
   "source": [
    "mlp_r.compile(\n",
    "  loss = \"categorical_crossentropy\",\n",
    "  optimizer = \"rmsprop\",\n",
    "  metrics = [\"accuracy\"]\n",
    ")"
   ]
  },
  {
   "cell_type": "code",
   "execution_count": 61,
   "metadata": {},
   "outputs": [
    {
     "name": "stdout",
     "output_type": "stream",
     "text": [
      "Epoch 1/100\n",
      "375/375 [==============================] - 1s 3ms/step - loss: 2.9621 - accuracy: 0.1292 - val_loss: 2.1606 - val_accuracy: 0.1566\n",
      "Epoch 2/100\n",
      "375/375 [==============================] - 1s 3ms/step - loss: 1.9830 - accuracy: 0.2663 - val_loss: 1.7636 - val_accuracy: 0.3171\n",
      "Epoch 3/100\n",
      "375/375 [==============================] - 1s 2ms/step - loss: 1.7130 - accuracy: 0.3544 - val_loss: 1.5190 - val_accuracy: 0.4145\n",
      "Epoch 4/100\n",
      "375/375 [==============================] - 1s 2ms/step - loss: 1.5320 - accuracy: 0.4159 - val_loss: 1.4031 - val_accuracy: 0.4740\n",
      "Epoch 5/100\n",
      "375/375 [==============================] - 1s 2ms/step - loss: 1.3808 - accuracy: 0.4791 - val_loss: 1.2104 - val_accuracy: 0.5257\n",
      "Epoch 6/100\n",
      "375/375 [==============================] - 1s 2ms/step - loss: 1.1797 - accuracy: 0.5626 - val_loss: 1.0074 - val_accuracy: 0.6219\n",
      "Epoch 7/100\n",
      "375/375 [==============================] - 1s 2ms/step - loss: 1.0419 - accuracy: 0.6178 - val_loss: 0.9241 - val_accuracy: 0.6529\n",
      "Epoch 8/100\n",
      "375/375 [==============================] - 1s 2ms/step - loss: 0.9054 - accuracy: 0.6950 - val_loss: 0.6685 - val_accuracy: 0.8233\n",
      "Epoch 9/100\n",
      "375/375 [==============================] - 1s 3ms/step - loss: 0.6724 - accuracy: 0.8069 - val_loss: 0.4278 - val_accuracy: 0.8793\n",
      "Epoch 10/100\n",
      "375/375 [==============================] - 1s 2ms/step - loss: 0.5349 - accuracy: 0.8493 - val_loss: 0.3616 - val_accuracy: 0.9024\n",
      "Epoch 11/100\n",
      "375/375 [==============================] - 1s 2ms/step - loss: 0.4682 - accuracy: 0.8694 - val_loss: 0.3366 - val_accuracy: 0.9102\n",
      "Epoch 12/100\n",
      "375/375 [==============================] - 1s 2ms/step - loss: 0.4257 - accuracy: 0.8829 - val_loss: 0.3115 - val_accuracy: 0.9161\n",
      "Epoch 13/100\n",
      "375/375 [==============================] - 1s 2ms/step - loss: 0.3989 - accuracy: 0.8903 - val_loss: 0.3017 - val_accuracy: 0.9202\n",
      "Epoch 14/100\n",
      "375/375 [==============================] - 1s 2ms/step - loss: 0.3666 - accuracy: 0.8985 - val_loss: 0.2798 - val_accuracy: 0.9260\n",
      "Epoch 15/100\n",
      "375/375 [==============================] - 1s 3ms/step - loss: 0.3422 - accuracy: 0.9064 - val_loss: 0.2687 - val_accuracy: 0.9316\n",
      "Epoch 16/100\n",
      "375/375 [==============================] - 1s 2ms/step - loss: 0.3321 - accuracy: 0.9094 - val_loss: 0.2599 - val_accuracy: 0.9335\n",
      "Epoch 17/100\n",
      "375/375 [==============================] - 1s 2ms/step - loss: 0.3175 - accuracy: 0.9141 - val_loss: 0.2654 - val_accuracy: 0.9350\n",
      "Epoch 18/100\n",
      "375/375 [==============================] - 1s 2ms/step - loss: 0.2987 - accuracy: 0.9189 - val_loss: 0.2739 - val_accuracy: 0.9332\n",
      "Epoch 19/100\n",
      "375/375 [==============================] - 1s 2ms/step - loss: 0.3001 - accuracy: 0.9195 - val_loss: 0.2499 - val_accuracy: 0.9352\n",
      "Epoch 20/100\n",
      "375/375 [==============================] - 1s 3ms/step - loss: 0.2843 - accuracy: 0.9242 - val_loss: 0.2445 - val_accuracy: 0.9400\n",
      "Epoch 21/100\n",
      "375/375 [==============================] - 1s 3ms/step - loss: 0.2780 - accuracy: 0.9255 - val_loss: 0.2480 - val_accuracy: 0.9388\n",
      "Epoch 22/100\n",
      "375/375 [==============================] - 1s 3ms/step - loss: 0.2674 - accuracy: 0.9291 - val_loss: 0.2484 - val_accuracy: 0.9380\n",
      "Epoch 23/100\n",
      "375/375 [==============================] - 1s 3ms/step - loss: 0.2610 - accuracy: 0.9311 - val_loss: 0.2465 - val_accuracy: 0.9379\n",
      "Epoch 24/100\n",
      "375/375 [==============================] - 1s 3ms/step - loss: 0.2555 - accuracy: 0.9328 - val_loss: 0.2491 - val_accuracy: 0.9435\n",
      "Epoch 25/100\n",
      "375/375 [==============================] - 1s 3ms/step - loss: 0.2492 - accuracy: 0.9337 - val_loss: 0.2345 - val_accuracy: 0.9409\n",
      "Epoch 26/100\n",
      "375/375 [==============================] - 1s 3ms/step - loss: 0.2443 - accuracy: 0.9370 - val_loss: 0.2413 - val_accuracy: 0.9426\n",
      "Epoch 27/100\n",
      "375/375 [==============================] - 1s 4ms/step - loss: 0.2366 - accuracy: 0.9367 - val_loss: 0.2620 - val_accuracy: 0.9392\n",
      "Epoch 28/100\n",
      "375/375 [==============================] - 1s 3ms/step - loss: 0.2338 - accuracy: 0.9382 - val_loss: 0.2799 - val_accuracy: 0.9427\n",
      "Epoch 29/100\n",
      "375/375 [==============================] - 1s 3ms/step - loss: 0.2328 - accuracy: 0.9405 - val_loss: 0.2464 - val_accuracy: 0.9432\n",
      "Epoch 30/100\n",
      "375/375 [==============================] - 1s 3ms/step - loss: 0.2210 - accuracy: 0.9423 - val_loss: 0.2572 - val_accuracy: 0.9438\n",
      "Epoch 31/100\n",
      "375/375 [==============================] - 1s 3ms/step - loss: 0.2171 - accuracy: 0.9436 - val_loss: 0.2492 - val_accuracy: 0.9427\n",
      "Epoch 32/100\n",
      "375/375 [==============================] - 1s 3ms/step - loss: 0.2226 - accuracy: 0.9416 - val_loss: 0.2378 - val_accuracy: 0.9461\n",
      "Epoch 33/100\n",
      "375/375 [==============================] - 1s 3ms/step - loss: 0.2206 - accuracy: 0.9430 - val_loss: 0.2460 - val_accuracy: 0.9432\n",
      "Epoch 34/100\n",
      "375/375 [==============================] - 1s 3ms/step - loss: 0.2074 - accuracy: 0.9459 - val_loss: 0.2370 - val_accuracy: 0.9465\n",
      "Epoch 35/100\n",
      "375/375 [==============================] - 1s 2ms/step - loss: 0.2102 - accuracy: 0.9433 - val_loss: 0.2545 - val_accuracy: 0.9439\n",
      "Epoch 36/100\n",
      "375/375 [==============================] - 1s 3ms/step - loss: 0.2021 - accuracy: 0.9467 - val_loss: 0.2462 - val_accuracy: 0.9436\n",
      "Epoch 37/100\n",
      "375/375 [==============================] - 1s 3ms/step - loss: 0.2027 - accuracy: 0.9467 - val_loss: 0.2494 - val_accuracy: 0.9447\n",
      "Epoch 38/100\n",
      "375/375 [==============================] - 1s 3ms/step - loss: 0.2036 - accuracy: 0.9475 - val_loss: 0.2423 - val_accuracy: 0.9450\n",
      "Epoch 39/100\n",
      "375/375 [==============================] - 1s 3ms/step - loss: 0.1972 - accuracy: 0.9482 - val_loss: 0.2633 - val_accuracy: 0.9436\n",
      "Epoch 40/100\n",
      "375/375 [==============================] - 1s 2ms/step - loss: 0.1923 - accuracy: 0.9503 - val_loss: 0.2426 - val_accuracy: 0.9444\n",
      "Epoch 41/100\n",
      "375/375 [==============================] - 1s 3ms/step - loss: 0.1937 - accuracy: 0.9485 - val_loss: 0.2714 - val_accuracy: 0.9448\n",
      "Epoch 42/100\n",
      "375/375 [==============================] - 1s 3ms/step - loss: 0.1928 - accuracy: 0.9501 - val_loss: 0.2514 - val_accuracy: 0.9448\n",
      "Epoch 43/100\n",
      "375/375 [==============================] - 1s 3ms/step - loss: 0.1870 - accuracy: 0.9518 - val_loss: 0.2397 - val_accuracy: 0.9455\n",
      "Epoch 44/100\n",
      "375/375 [==============================] - 1s 3ms/step - loss: 0.1817 - accuracy: 0.9519 - val_loss: 0.2780 - val_accuracy: 0.9452\n",
      "Epoch 45/100\n",
      "375/375 [==============================] - 1s 3ms/step - loss: 0.1775 - accuracy: 0.9535 - val_loss: 0.2624 - val_accuracy: 0.9431\n",
      "Epoch 46/100\n",
      "375/375 [==============================] - 1s 3ms/step - loss: 0.1781 - accuracy: 0.9532 - val_loss: 0.2499 - val_accuracy: 0.9449\n",
      "Epoch 47/100\n",
      "375/375 [==============================] - 1s 2ms/step - loss: 0.1769 - accuracy: 0.9533 - val_loss: 0.2544 - val_accuracy: 0.9453\n",
      "Epoch 48/100\n",
      "375/375 [==============================] - 1s 3ms/step - loss: 0.1773 - accuracy: 0.9536 - val_loss: 0.2503 - val_accuracy: 0.9442\n",
      "Epoch 49/100\n",
      "375/375 [==============================] - 1s 3ms/step - loss: 0.1750 - accuracy: 0.9542 - val_loss: 0.2797 - val_accuracy: 0.9451\n",
      "Epoch 50/100\n",
      "375/375 [==============================] - 1s 3ms/step - loss: 0.1750 - accuracy: 0.9555 - val_loss: 0.2616 - val_accuracy: 0.9475\n",
      "Epoch 51/100\n",
      "375/375 [==============================] - 1s 3ms/step - loss: 0.1686 - accuracy: 0.9553 - val_loss: 0.2797 - val_accuracy: 0.9453\n",
      "Epoch 52/100\n",
      "375/375 [==============================] - 1s 3ms/step - loss: 0.1717 - accuracy: 0.9556 - val_loss: 0.2504 - val_accuracy: 0.9493\n",
      "Epoch 53/100\n",
      "375/375 [==============================] - 1s 2ms/step - loss: 0.1678 - accuracy: 0.9573 - val_loss: 0.2668 - val_accuracy: 0.9466\n",
      "Epoch 54/100\n",
      "375/375 [==============================] - 1s 3ms/step - loss: 0.1640 - accuracy: 0.9566 - val_loss: 0.2518 - val_accuracy: 0.9459\n",
      "Epoch 55/100\n",
      "375/375 [==============================] - 1s 3ms/step - loss: 0.1656 - accuracy: 0.9575 - val_loss: 0.2786 - val_accuracy: 0.9475\n",
      "Epoch 56/100\n",
      "375/375 [==============================] - 1s 3ms/step - loss: 0.1636 - accuracy: 0.9586 - val_loss: 0.2488 - val_accuracy: 0.9480\n",
      "Epoch 57/100\n",
      "375/375 [==============================] - 1s 3ms/step - loss: 0.1614 - accuracy: 0.9591 - val_loss: 0.2546 - val_accuracy: 0.9487\n"
     ]
    },
    {
     "name": "stdout",
     "output_type": "stream",
     "text": [
      "Epoch 58/100\n",
      "375/375 [==============================] - 1s 3ms/step - loss: 0.1593 - accuracy: 0.9582 - val_loss: 0.2764 - val_accuracy: 0.9477\n",
      "Epoch 59/100\n",
      "375/375 [==============================] - 1s 3ms/step - loss: 0.1603 - accuracy: 0.9587 - val_loss: 0.2582 - val_accuracy: 0.9450\n",
      "Epoch 60/100\n",
      "375/375 [==============================] - 1s 3ms/step - loss: 0.1688 - accuracy: 0.9575 - val_loss: 0.2573 - val_accuracy: 0.9468\n",
      "Epoch 61/100\n",
      "375/375 [==============================] - 1s 4ms/step - loss: 0.1649 - accuracy: 0.9573 - val_loss: 0.2696 - val_accuracy: 0.9479\n",
      "Epoch 62/100\n",
      "375/375 [==============================] - 1s 3ms/step - loss: 0.1584 - accuracy: 0.9595 - val_loss: 0.2673 - val_accuracy: 0.9469\n",
      "Epoch 63/100\n",
      "375/375 [==============================] - 1s 3ms/step - loss: 0.1594 - accuracy: 0.9592 - val_loss: 0.2557 - val_accuracy: 0.9476\n",
      "Epoch 64/100\n",
      "375/375 [==============================] - 1s 2ms/step - loss: 0.1604 - accuracy: 0.9607 - val_loss: 0.2985 - val_accuracy: 0.9457\n",
      "Epoch 65/100\n",
      "375/375 [==============================] - 1s 3ms/step - loss: 0.1599 - accuracy: 0.9600 - val_loss: 0.2545 - val_accuracy: 0.9471\n",
      "Epoch 66/100\n",
      "375/375 [==============================] - 1s 3ms/step - loss: 0.1602 - accuracy: 0.9598 - val_loss: 0.2542 - val_accuracy: 0.9438\n",
      "Epoch 67/100\n",
      "375/375 [==============================] - 1s 3ms/step - loss: 0.1547 - accuracy: 0.9608 - val_loss: 0.2659 - val_accuracy: 0.9463\n",
      "Epoch 68/100\n",
      "375/375 [==============================] - 1s 3ms/step - loss: 0.1526 - accuracy: 0.9606 - val_loss: 0.2913 - val_accuracy: 0.9442\n",
      "Epoch 69/100\n",
      "375/375 [==============================] - 1s 3ms/step - loss: 0.1583 - accuracy: 0.9600 - val_loss: 0.3191 - val_accuracy: 0.9451\n",
      "Epoch 70/100\n",
      "375/375 [==============================] - 1s 3ms/step - loss: 0.1543 - accuracy: 0.9621 - val_loss: 0.2812 - val_accuracy: 0.9465\n",
      "Epoch 71/100\n",
      "375/375 [==============================] - 1s 3ms/step - loss: 0.1514 - accuracy: 0.9617 - val_loss: 0.2595 - val_accuracy: 0.9467\n",
      "Epoch 72/100\n",
      "375/375 [==============================] - 1s 4ms/step - loss: 0.1527 - accuracy: 0.9613 - val_loss: 0.2866 - val_accuracy: 0.9466\n",
      "Epoch 73/100\n",
      "375/375 [==============================] - 1s 3ms/step - loss: 0.1540 - accuracy: 0.9608 - val_loss: 0.2628 - val_accuracy: 0.9477\n",
      "Epoch 74/100\n",
      "375/375 [==============================] - 1s 3ms/step - loss: 0.1550 - accuracy: 0.9609 - val_loss: 0.2740 - val_accuracy: 0.9454\n",
      "Epoch 75/100\n",
      "375/375 [==============================] - 1s 3ms/step - loss: 0.1508 - accuracy: 0.9614 - val_loss: 0.3014 - val_accuracy: 0.9483\n",
      "Epoch 76/100\n",
      "375/375 [==============================] - 1s 3ms/step - loss: 0.1475 - accuracy: 0.9633 - val_loss: 0.2789 - val_accuracy: 0.9477\n",
      "Epoch 77/100\n",
      "375/375 [==============================] - 1s 3ms/step - loss: 0.1510 - accuracy: 0.9618 - val_loss: 0.2897 - val_accuracy: 0.9459\n",
      "Epoch 78/100\n",
      "375/375 [==============================] - 1s 3ms/step - loss: 0.1563 - accuracy: 0.9613 - val_loss: 0.2839 - val_accuracy: 0.9473\n",
      "Epoch 79/100\n",
      "375/375 [==============================] - 1s 3ms/step - loss: 0.1497 - accuracy: 0.9609 - val_loss: 0.2809 - val_accuracy: 0.9479\n",
      "Epoch 80/100\n",
      "375/375 [==============================] - 1s 3ms/step - loss: 0.1482 - accuracy: 0.9621 - val_loss: 0.2903 - val_accuracy: 0.9467\n",
      "Epoch 81/100\n",
      "375/375 [==============================] - 1s 3ms/step - loss: 0.1434 - accuracy: 0.9628 - val_loss: 0.3120 - val_accuracy: 0.9453\n",
      "Epoch 82/100\n",
      "375/375 [==============================] - 1s 3ms/step - loss: 0.1430 - accuracy: 0.9629 - val_loss: 0.2886 - val_accuracy: 0.9463\n",
      "Epoch 83/100\n",
      "375/375 [==============================] - 1s 3ms/step - loss: 0.1496 - accuracy: 0.9625 - val_loss: 0.2992 - val_accuracy: 0.9467\n",
      "Epoch 84/100\n",
      "375/375 [==============================] - 1s 3ms/step - loss: 0.1437 - accuracy: 0.9632 - val_loss: 0.2915 - val_accuracy: 0.9468\n",
      "Epoch 85/100\n",
      "375/375 [==============================] - 1s 3ms/step - loss: 0.1515 - accuracy: 0.9624 - val_loss: 0.2784 - val_accuracy: 0.9463\n",
      "Epoch 86/100\n",
      "375/375 [==============================] - 1s 3ms/step - loss: 0.1438 - accuracy: 0.9631 - val_loss: 0.2784 - val_accuracy: 0.9474\n",
      "Epoch 87/100\n",
      "375/375 [==============================] - 1s 3ms/step - loss: 0.1460 - accuracy: 0.9646 - val_loss: 0.3177 - val_accuracy: 0.9484\n",
      "Epoch 88/100\n",
      "375/375 [==============================] - 1s 3ms/step - loss: 0.1447 - accuracy: 0.9655 - val_loss: 0.2787 - val_accuracy: 0.9450\n",
      "Epoch 89/100\n",
      "375/375 [==============================] - 1s 3ms/step - loss: 0.1478 - accuracy: 0.9643 - val_loss: 0.3108 - val_accuracy: 0.9473\n",
      "Epoch 90/100\n",
      "375/375 [==============================] - 1s 2ms/step - loss: 0.1463 - accuracy: 0.9630 - val_loss: 0.3268 - val_accuracy: 0.9460\n",
      "Epoch 91/100\n",
      "375/375 [==============================] - 1s 2ms/step - loss: 0.1423 - accuracy: 0.9651 - val_loss: 0.3083 - val_accuracy: 0.9463\n",
      "Epoch 92/100\n",
      "375/375 [==============================] - 1s 3ms/step - loss: 0.1402 - accuracy: 0.9652 - val_loss: 0.3277 - val_accuracy: 0.9461\n",
      "Epoch 93/100\n",
      "375/375 [==============================] - 1s 3ms/step - loss: 0.1455 - accuracy: 0.9653 - val_loss: 0.2790 - val_accuracy: 0.9474\n",
      "Epoch 94/100\n",
      "375/375 [==============================] - 1s 3ms/step - loss: 0.1488 - accuracy: 0.9634 - val_loss: 0.3001 - val_accuracy: 0.9472\n",
      "Epoch 95/100\n",
      "375/375 [==============================] - 1s 3ms/step - loss: 0.1446 - accuracy: 0.9641 - val_loss: 0.3135 - val_accuracy: 0.9457\n",
      "Epoch 96/100\n",
      "375/375 [==============================] - 1s 3ms/step - loss: 0.1383 - accuracy: 0.9639 - val_loss: 0.3096 - val_accuracy: 0.9477\n",
      "Epoch 97/100\n",
      "375/375 [==============================] - 1s 3ms/step - loss: 0.1402 - accuracy: 0.9653 - val_loss: 0.2716 - val_accuracy: 0.9479\n",
      "Epoch 98/100\n",
      "375/375 [==============================] - 1s 3ms/step - loss: 0.1494 - accuracy: 0.9647 - val_loss: 0.2890 - val_accuracy: 0.9471\n",
      "Epoch 99/100\n",
      "375/375 [==============================] - 1s 3ms/step - loss: 0.1442 - accuracy: 0.9644 - val_loss: 0.3287 - val_accuracy: 0.9464\n",
      "Epoch 100/100\n",
      "375/375 [==============================] - 1s 3ms/step - loss: 0.1422 - accuracy: 0.9655 - val_loss: 0.3153 - val_accuracy: 0.9450\n"
     ]
    }
   ],
   "source": [
    "history3 = mlp_r.fit(\n",
    "  X_train_mlp, y_train_hot,\n",
    "  epochs = 100, batch_size = 128,\n",
    "  validation_split = 0.2\n",
    ")"
   ]
  },
  {
   "cell_type": "code",
   "execution_count": 63,
   "metadata": {},
   "outputs": [
    {
     "data": {
      "image/png": "[encoded data removed]",
      "text/plain": [
       "<Figure size 432x288 with 1 Axes>"
      ]
     },
     "metadata": {
      "needs_background": "light"
     },
     "output_type": "display_data"
    }
   ],
   "source": [
    "plot_history(history3)"
   ]
  },
  {
   "cell_type": "code",
   "execution_count": null,
   "metadata": {},
   "outputs": [],
   "source": [
    "mlp_r = load_model(\"mlp_r_v1.h5\")"
   ]
  },
  {
   "cell_type": "code",
   "execution_count": 65,
   "metadata": {},
   "outputs": [
    {
     "name": "stdout",
     "output_type": "stream",
     "text": [
      "313/313 [==============================] - 0s 790us/step - loss: 0.7468 - accuracy: 0.8722\n",
      "Loss: 0.7468260526657104, Accuracy: 0.8722000122070312\n"
     ]
    }
   ],
   "source": [
    "per_test3 = mlp_r.evaluate(X_test_mlp, y_test_hot)\n",
    "print(\"Loss: {}, Accuracy: {}\".format(per_test3[0], per_test3[1]))"
   ]
  },
  {
   "cell_type": "code",
   "execution_count": 66,
   "metadata": {},
   "outputs": [],
   "source": [
    "mlp_r.save(\"mlp_r_v1.h5\")"
   ]
  },
  {
   "cell_type": "markdown",
   "metadata": {},
   "source": [
    "#### Improving the MLP Regularized model:"
   ]
  },
  {
   "cell_type": "code",
   "execution_count": 73,
   "metadata": {},
   "outputs": [],
   "source": [
    "mlp_r2 = keras.Sequential([\n",
    "    keras.layers.Dense(units = 1024, activation = \"relu\", input_shape = (X_train_mlp.shape[1],)),\n",
    "    keras.layers.Dropout(rate = 0.25),\n",
    "    keras.layers.Dense(units = 512, activation = \"relu\"),\n",
    "    keras.layers.Dropout(rate = 0.25),\n",
    "    keras.layers.Dense(units = 256, activation = \"relu\"),\n",
    "    keras.layers.Dropout(rate = 0.25),\n",
    "    keras.layers.Dense(units = 128, activation = \"relu\"),\n",
    "    keras.layers.Dropout(rate = 0.1),\n",
    "    keras.layers.Dense(units = 64, activation = \"relu\"),\n",
    "    keras.layers.Dropout(rate = 0.1),\n",
    "    keras.layers.Dense(units = 32, activation = \"relu\"),\n",
    "    keras.layers.Dropout(rate = 0.1),\n",
    "    keras.layers.Dense(units = 16, activation = \"relu\"),\n",
    "    keras.layers.Dropout(rate = 0.01),\n",
    "    keras.layers.Dense(units = 10, activation = \"softmax\")\n",
    "])"
   ]
  },
  {
   "cell_type": "code",
   "execution_count": 74,
   "metadata": {},
   "outputs": [
    {
     "name": "stdout",
     "output_type": "stream",
     "text": [
      "Model: \"sequential_15\"\n",
      "_________________________________________________________________\n",
      "Layer (type)                 Output Shape              Param #   \n",
      "=================================================================\n",
      "dense_56 (Dense)             (None, 1024)              803840    \n",
      "_________________________________________________________________\n",
      "dropout_55 (Dropout)         (None, 1024)              0         \n",
      "_________________________________________________________________\n",
      "dense_57 (Dense)             (None, 512)               524800    \n",
      "_________________________________________________________________\n",
      "dropout_56 (Dropout)         (None, 512)               0         \n",
      "_________________________________________________________________\n",
      "dense_58 (Dense)             (None, 256)               131328    \n",
      "_________________________________________________________________\n",
      "dropout_57 (Dropout)         (None, 256)               0         \n",
      "_________________________________________________________________\n",
      "dense_59 (Dense)             (None, 128)               32896     \n",
      "_________________________________________________________________\n",
      "dropout_58 (Dropout)         (None, 128)               0         \n",
      "_________________________________________________________________\n",
      "dense_60 (Dense)             (None, 64)                8256      \n",
      "_________________________________________________________________\n",
      "dropout_59 (Dropout)         (None, 64)                0         \n",
      "_________________________________________________________________\n",
      "dense_61 (Dense)             (None, 32)                2080      \n",
      "_________________________________________________________________\n",
      "dropout_60 (Dropout)         (None, 32)                0         \n",
      "_________________________________________________________________\n",
      "dense_62 (Dense)             (None, 16)                528       \n",
      "_________________________________________________________________\n",
      "dropout_61 (Dropout)         (None, 16)                0         \n",
      "_________________________________________________________________\n",
      "dense_63 (Dense)             (None, 10)                170       \n",
      "=================================================================\n",
      "Total params: 1,503,898\n",
      "Trainable params: 1,503,898\n",
      "Non-trainable params: 0\n",
      "_________________________________________________________________\n"
     ]
    }
   ],
   "source": [
    "mlp_r2.summary()"
   ]
  },
  {
   "cell_type": "code",
   "execution_count": 75,
   "metadata": {},
   "outputs": [],
   "source": [
    "mlp_r2.compile(\n",
    "  loss = \"categorical_crossentropy\",\n",
    "  optimizer = \"rmsprop\",\n",
    "  metrics = [\"accuracy\"]\n",
    ")"
   ]
  },
  {
   "cell_type": "code",
   "execution_count": 80,
   "metadata": {},
   "outputs": [
    {
     "name": "stdout",
     "output_type": "stream",
     "text": [
      "Epoch 1/100\n",
      "375/375 [==============================] - 12s 33ms/step - loss: 0.3639 - accuracy: 0.9129 - val_loss: 0.2807 - val_accuracy: 0.9378\n",
      "Epoch 2/100\n",
      "375/375 [==============================] - 12s 32ms/step - loss: 0.3068 - accuracy: 0.9294 - val_loss: 0.2435 - val_accuracy: 0.9437\n",
      "Epoch 3/100\n",
      "375/375 [==============================] - 11s 30ms/step - loss: 0.2791 - accuracy: 0.9371 - val_loss: 0.2254 - val_accuracy: 0.9507\n",
      "Epoch 4/100\n",
      "375/375 [==============================] - 12s 31ms/step - loss: 0.2554 - accuracy: 0.9419 - val_loss: 0.2230 - val_accuracy: 0.9497\n",
      "Epoch 5/100\n",
      "375/375 [==============================] - 14s 36ms/step - loss: 0.2443 - accuracy: 0.9455 - val_loss: 0.2113 - val_accuracy: 0.9507\n",
      "Epoch 6/100\n",
      "375/375 [==============================] - 12s 33ms/step - loss: 0.2334 - accuracy: 0.9494 - val_loss: 0.2476 - val_accuracy: 0.9520\n",
      "Epoch 7/100\n",
      "375/375 [==============================] - 12s 33ms/step - loss: 0.2157 - accuracy: 0.9532 - val_loss: 0.2103 - val_accuracy: 0.9556\n",
      "Epoch 8/100\n",
      "375/375 [==============================] - 12s 32ms/step - loss: 0.2145 - accuracy: 0.9561 - val_loss: 0.1965 - val_accuracy: 0.9597\n",
      "Epoch 9/100\n",
      "375/375 [==============================] - 12s 33ms/step - loss: 0.1996 - accuracy: 0.9597 - val_loss: 0.2359 - val_accuracy: 0.9584\n",
      "Epoch 10/100\n",
      "375/375 [==============================] - 12s 31ms/step - loss: 0.2066 - accuracy: 0.9597 - val_loss: 0.2061 - val_accuracy: 0.9601\n",
      "Epoch 11/100\n",
      "375/375 [==============================] - 12s 31ms/step - loss: 0.1877 - accuracy: 0.9621 - val_loss: 0.2454 - val_accuracy: 0.9596\n",
      "Epoch 12/100\n",
      "375/375 [==============================] - 12s 31ms/step - loss: 0.1909 - accuracy: 0.9621 - val_loss: 0.2443 - val_accuracy: 0.9542\n",
      "Epoch 13/100\n",
      "375/375 [==============================] - 11s 30ms/step - loss: 0.1848 - accuracy: 0.9637 - val_loss: 0.2428 - val_accuracy: 0.9612\n",
      "Epoch 14/100\n",
      "375/375 [==============================] - 11s 29ms/step - loss: 0.1861 - accuracy: 0.9650 - val_loss: 0.2268 - val_accuracy: 0.9634\n",
      "Epoch 15/100\n",
      "375/375 [==============================] - 11s 28ms/step - loss: 0.1921 - accuracy: 0.9679 - val_loss: 0.1960 - val_accuracy: 0.9626\n",
      "Epoch 16/100\n",
      "375/375 [==============================] - 10s 28ms/step - loss: 0.1938 - accuracy: 0.9670 - val_loss: 0.2479 - val_accuracy: 0.9661\n",
      "Epoch 17/100\n",
      "375/375 [==============================] - 11s 28ms/step - loss: 0.1685 - accuracy: 0.9687 - val_loss: 0.2550 - val_accuracy: 0.9622\n",
      "Epoch 18/100\n",
      "375/375 [==============================] - 10s 28ms/step - loss: 0.1801 - accuracy: 0.9685 - val_loss: 0.2270 - val_accuracy: 0.9592\n",
      "Epoch 19/100\n",
      "375/375 [==============================] - 12s 31ms/step - loss: 0.1817 - accuracy: 0.9691 - val_loss: 0.2858 - val_accuracy: 0.9633\n",
      "Epoch 20/100\n",
      "375/375 [==============================] - 12s 32ms/step - loss: 0.1952 - accuracy: 0.9697 - val_loss: 0.2527 - val_accuracy: 0.9592\n",
      "Epoch 21/100\n",
      "375/375 [==============================] - 11s 31ms/step - loss: 0.1996 - accuracy: 0.9673 - val_loss: 0.2348 - val_accuracy: 0.9616\n",
      "Epoch 22/100\n",
      "375/375 [==============================] - 12s 32ms/step - loss: 0.2009 - accuracy: 0.9687 - val_loss: 0.2121 - val_accuracy: 0.9635\n",
      "Epoch 23/100\n",
      "375/375 [==============================] - 12s 32ms/step - loss: 0.1773 - accuracy: 0.9699 - val_loss: 0.2644 - val_accuracy: 0.9642\n",
      "Epoch 24/100\n",
      "375/375 [==============================] - 12s 32ms/step - loss: 0.1785 - accuracy: 0.9711 - val_loss: 0.2653 - val_accuracy: 0.9652\n",
      "Epoch 25/100\n",
      "375/375 [==============================] - 11s 30ms/step - loss: 0.1902 - accuracy: 0.9738 - val_loss: 0.2780 - val_accuracy: 0.9641\n",
      "Epoch 26/100\n",
      "375/375 [==============================] - 12s 33ms/step - loss: 0.1779 - accuracy: 0.9740 - val_loss: 0.2596 - val_accuracy: 0.9654\n",
      "Epoch 27/100\n",
      "375/375 [==============================] - 12s 32ms/step - loss: 0.1830 - accuracy: 0.9741 - val_loss: 0.2400 - val_accuracy: 0.9657\n",
      "Epoch 28/100\n",
      "375/375 [==============================] - 12s 32ms/step - loss: 0.1947 - accuracy: 0.9737 - val_loss: 0.3355 - val_accuracy: 0.9628\n",
      "Epoch 29/100\n",
      "375/375 [==============================] - 11s 29ms/step - loss: 0.1714 - accuracy: 0.9732 - val_loss: 0.2600 - val_accuracy: 0.9654\n",
      "Epoch 30/100\n",
      "375/375 [==============================] - 12s 32ms/step - loss: 0.1695 - accuracy: 0.9728 - val_loss: 0.2669 - val_accuracy: 0.9647\n",
      "Epoch 31/100\n",
      "375/375 [==============================] - 12s 32ms/step - loss: 0.1835 - accuracy: 0.9739 - val_loss: 0.2818 - val_accuracy: 0.9623\n",
      "Epoch 32/100\n",
      "375/375 [==============================] - 12s 31ms/step - loss: 0.2114 - accuracy: 0.9719 - val_loss: 0.2912 - val_accuracy: 0.9631\n",
      "Epoch 33/100\n",
      "375/375 [==============================] - 12s 31ms/step - loss: 0.1724 - accuracy: 0.9722 - val_loss: 0.2945 - val_accuracy: 0.9673\n",
      "Epoch 34/100\n",
      "375/375 [==============================] - 12s 32ms/step - loss: 0.1689 - accuracy: 0.9744 - val_loss: 0.4378 - val_accuracy: 0.9664\n",
      "Epoch 35/100\n",
      "375/375 [==============================] - 12s 32ms/step - loss: 0.1656 - accuracy: 0.9739 - val_loss: 0.3856 - val_accuracy: 0.9668\n",
      "Epoch 36/100\n",
      "375/375 [==============================] - 11s 30ms/step - loss: 0.1904 - accuracy: 0.9743 - val_loss: 0.2799 - val_accuracy: 0.9652\n",
      "Epoch 37/100\n",
      "375/375 [==============================] - 12s 32ms/step - loss: 0.1800 - accuracy: 0.9762 - val_loss: 0.3523 - val_accuracy: 0.9588\n",
      "Epoch 38/100\n",
      "375/375 [==============================] - 12s 33ms/step - loss: 0.1889 - accuracy: 0.9733 - val_loss: 0.3067 - val_accuracy: 0.9653\n",
      "Epoch 39/100\n",
      "375/375 [==============================] - 12s 33ms/step - loss: 0.2362 - accuracy: 0.9744 - val_loss: 0.4203 - val_accuracy: 0.9657\n",
      "Epoch 40/100\n",
      "375/375 [==============================] - 12s 32ms/step - loss: 0.2508 - accuracy: 0.9709 - val_loss: 0.3041 - val_accuracy: 0.9621\n",
      "Epoch 41/100\n",
      "375/375 [==============================] - 12s 31ms/step - loss: 0.1697 - accuracy: 0.9730 - val_loss: 0.2442 - val_accuracy: 0.9645\n",
      "Epoch 42/100\n",
      "375/375 [==============================] - 11s 30ms/step - loss: 0.1614 - accuracy: 0.9743 - val_loss: 0.3114 - val_accuracy: 0.9631\n",
      "Epoch 43/100\n",
      "375/375 [==============================] - 12s 31ms/step - loss: 0.1631 - accuracy: 0.9754 - val_loss: 0.2847 - val_accuracy: 0.9675\n",
      "Epoch 44/100\n",
      "375/375 [==============================] - 11s 30ms/step - loss: 0.1829 - accuracy: 0.9750 - val_loss: 0.3230 - val_accuracy: 0.9662\n",
      "Epoch 45/100\n",
      "375/375 [==============================] - 11s 30ms/step - loss: 0.1584 - accuracy: 0.9764 - val_loss: 0.3741 - val_accuracy: 0.9637\n",
      "Epoch 46/100\n",
      "375/375 [==============================] - 12s 31ms/step - loss: 0.2043 - accuracy: 0.9734 - val_loss: 0.2902 - val_accuracy: 0.9611\n",
      "Epoch 47/100\n",
      "375/375 [==============================] - 12s 33ms/step - loss: 0.2101 - accuracy: 0.9723 - val_loss: 0.2925 - val_accuracy: 0.9658\n",
      "Epoch 48/100\n",
      "375/375 [==============================] - 12s 32ms/step - loss: 0.1778 - accuracy: 0.9711 - val_loss: 0.3337 - val_accuracy: 0.9664\n",
      "Epoch 49/100\n",
      "375/375 [==============================] - 12s 32ms/step - loss: 0.1895 - accuracy: 0.9720 - val_loss: 0.3021 - val_accuracy: 0.9640\n",
      "Epoch 50/100\n",
      "375/375 [==============================] - 11s 30ms/step - loss: 0.1710 - accuracy: 0.9735 - val_loss: 0.4110 - val_accuracy: 0.9633\n",
      "Epoch 51/100\n",
      "375/375 [==============================] - 11s 29ms/step - loss: 0.1852 - accuracy: 0.9740 - val_loss: 0.2808 - val_accuracy: 0.9671\n",
      "Epoch 52/100\n",
      "375/375 [==============================] - 11s 29ms/step - loss: 0.2112 - accuracy: 0.9724 - val_loss: 0.2682 - val_accuracy: 0.9625\n",
      "Epoch 53/100\n",
      "375/375 [==============================] - 12s 31ms/step - loss: 0.2415 - accuracy: 0.9734 - val_loss: 0.3260 - val_accuracy: 0.9632\n",
      "Epoch 54/100\n",
      "375/375 [==============================] - 11s 30ms/step - loss: 0.1945 - accuracy: 0.9713 - val_loss: 0.2672 - val_accuracy: 0.9616\n",
      "Epoch 55/100\n",
      "375/375 [==============================] - 11s 29ms/step - loss: 0.2393 - accuracy: 0.9679 - val_loss: 0.3069 - val_accuracy: 0.9649\n",
      "Epoch 56/100\n",
      "375/375 [==============================] - 11s 29ms/step - loss: 0.2402 - accuracy: 0.9707 - val_loss: 0.3482 - val_accuracy: 0.9666\n",
      "Epoch 57/100\n",
      "375/375 [==============================] - 11s 30ms/step - loss: 0.1860 - accuracy: 0.9711 - val_loss: 0.3050 - val_accuracy: 0.9628\n",
      "Epoch 58/100\n",
      "375/375 [==============================] - 12s 33ms/step - loss: 0.2083 - accuracy: 0.9715 - val_loss: 0.3928 - val_accuracy: 0.9661\n",
      "Epoch 59/100\n",
      "375/375 [==============================] - 12s 33ms/step - loss: 0.2093 - accuracy: 0.9748 - val_loss: 0.4166 - val_accuracy: 0.9610\n",
      "Epoch 60/100\n",
      "375/375 [==============================] - 12s 31ms/step - loss: 0.2472 - accuracy: 0.9726 - val_loss: 0.3031 - val_accuracy: 0.9603\n",
      "Epoch 61/100\n",
      "375/375 [==============================] - 11s 30ms/step - loss: 0.2144 - accuracy: 0.9704 - val_loss: 0.3149 - val_accuracy: 0.9637\n",
      "Epoch 62/100\n",
      "375/375 [==============================] - 11s 30ms/step - loss: 0.2365 - accuracy: 0.9688 - val_loss: 0.3447 - val_accuracy: 0.9653\n",
      "Epoch 63/100\n",
      "375/375 [==============================] - 12s 32ms/step - loss: 0.1977 - accuracy: 0.9698 - val_loss: 0.4425 - val_accuracy: 0.9595\n",
      "Epoch 64/100\n",
      "375/375 [==============================] - 12s 31ms/step - loss: 0.3124 - accuracy: 0.9716 - val_loss: 0.3405 - val_accuracy: 0.9503\n",
      "Epoch 65/100\n",
      "375/375 [==============================] - 11s 31ms/step - loss: 0.1964 - accuracy: 0.9690 - val_loss: 0.4530 - val_accuracy: 0.9617\n",
      "Epoch 66/100\n",
      "375/375 [==============================] - 11s 31ms/step - loss: 0.2489 - accuracy: 0.9694 - val_loss: 0.3330 - val_accuracy: 0.9628\n",
      "Epoch 67/100\n",
      "375/375 [==============================] - 12s 31ms/step - loss: 0.2574 - accuracy: 0.9689 - val_loss: 0.4587 - val_accuracy: 0.9678\n",
      "Epoch 68/100\n",
      "375/375 [==============================] - 11s 30ms/step - loss: 0.2219 - accuracy: 0.9694 - val_loss: 0.3210 - val_accuracy: 0.9620\n",
      "Epoch 69/100\n",
      "375/375 [==============================] - 13s 34ms/step - loss: 0.2159 - accuracy: 0.9682 - val_loss: 0.4304 - val_accuracy: 0.9646\n",
      "Epoch 70/100\n",
      "375/375 [==============================] - 12s 32ms/step - loss: 0.2809 - accuracy: 0.9665 - val_loss: 0.4425 - val_accuracy: 0.9625\n",
      "Epoch 71/100\n",
      "375/375 [==============================] - 11s 29ms/step - loss: 0.2259 - accuracy: 0.9667 - val_loss: 0.3680 - val_accuracy: 0.9638\n",
      "Epoch 72/100\n",
      "375/375 [==============================] - 12s 33ms/step - loss: 0.2249 - accuracy: 0.9680 - val_loss: 0.6636 - val_accuracy: 0.9670\n",
      "Epoch 73/100\n",
      "375/375 [==============================] - 12s 33ms/step - loss: 0.2864 - accuracy: 0.9690 - val_loss: 0.4110 - val_accuracy: 0.9630\n",
      "Epoch 74/100\n",
      "375/375 [==============================] - 12s 32ms/step - loss: 0.3168 - accuracy: 0.9700 - val_loss: 0.6153 - val_accuracy: 0.9643\n",
      "Epoch 75/100\n",
      "375/375 [==============================] - 12s 33ms/step - loss: 0.2231 - accuracy: 0.9646 - val_loss: 0.4280 - val_accuracy: 0.9608\n",
      "Epoch 76/100\n",
      "375/375 [==============================] - 13s 34ms/step - loss: 0.2460 - accuracy: 0.9624 - val_loss: 0.5427 - val_accuracy: 0.9572\n",
      "Epoch 77/100\n",
      "375/375 [==============================] - 12s 31ms/step - loss: 0.2097 - accuracy: 0.9682 - val_loss: 0.3924 - val_accuracy: 0.9637\n",
      "Epoch 78/100\n",
      "375/375 [==============================] - 12s 31ms/step - loss: 0.2426 - accuracy: 0.9657 - val_loss: 0.3074 - val_accuracy: 0.9621\n",
      "Epoch 79/100\n",
      "375/375 [==============================] - 12s 32ms/step - loss: 0.2541 - accuracy: 0.9664 - val_loss: 0.4214 - val_accuracy: 0.9660\n",
      "Epoch 80/100\n",
      "375/375 [==============================] - 11s 30ms/step - loss: 0.2522 - accuracy: 0.9652 - val_loss: 0.3704 - val_accuracy: 0.9607\n",
      "Epoch 81/100\n",
      "375/375 [==============================] - 12s 31ms/step - loss: 0.2331 - accuracy: 0.9640 - val_loss: 0.6168 - val_accuracy: 0.9605\n",
      "Epoch 82/100\n",
      "375/375 [==============================] - 12s 31ms/step - loss: 0.2281 - accuracy: 0.9639 - val_loss: 0.6064 - val_accuracy: 0.9638\n",
      "Epoch 83/100\n",
      "375/375 [==============================] - 12s 32ms/step - loss: 0.2351 - accuracy: 0.9630 - val_loss: 0.6109 - val_accuracy: 0.9662\n",
      "Epoch 84/100\n",
      "375/375 [==============================] - 12s 32ms/step - loss: 0.3407 - accuracy: 0.9578 - val_loss: 0.3863 - val_accuracy: 0.9594\n",
      "Epoch 85/100\n",
      "375/375 [==============================] - 12s 31ms/step - loss: 0.2520 - accuracy: 0.9651 - val_loss: 1.3327 - val_accuracy: 0.9642\n",
      "Epoch 86/100\n",
      "375/375 [==============================] - 12s 31ms/step - loss: 0.2285 - accuracy: 0.9643 - val_loss: 0.5320 - val_accuracy: 0.9592\n",
      "Epoch 87/100\n",
      "375/375 [==============================] - 11s 31ms/step - loss: 0.2628 - accuracy: 0.9660 - val_loss: 0.6524 - val_accuracy: 0.9638\n",
      "Epoch 88/100\n",
      "375/375 [==============================] - 12s 32ms/step - loss: 0.3541 - accuracy: 0.9625 - val_loss: 0.5765 - val_accuracy: 0.9594\n",
      "Epoch 89/100\n",
      "375/375 [==============================] - 11s 30ms/step - loss: 0.2440 - accuracy: 0.9643 - val_loss: 0.4388 - val_accuracy: 0.9657\n",
      "Epoch 90/100\n",
      "375/375 [==============================] - 11s 31ms/step - loss: 0.4054 - accuracy: 0.9672 - val_loss: 0.6402 - val_accuracy: 0.9614\n",
      "Epoch 91/100\n",
      "375/375 [==============================] - 12s 31ms/step - loss: 0.2424 - accuracy: 0.9657 - val_loss: 0.3808 - val_accuracy: 0.9636\n",
      "Epoch 92/100\n",
      "375/375 [==============================] - 11s 31ms/step - loss: 0.3926 - accuracy: 0.9587 - val_loss: 0.4396 - val_accuracy: 0.9578\n",
      "Epoch 93/100\n",
      "375/375 [==============================] - 12s 33ms/step - loss: 0.2341 - accuracy: 0.9603 - val_loss: 0.3845 - val_accuracy: 0.9633\n",
      "Epoch 94/100\n",
      "375/375 [==============================] - 12s 32ms/step - loss: 0.2730 - accuracy: 0.9634 - val_loss: 0.5573 - val_accuracy: 0.9622\n",
      "Epoch 95/100\n",
      "375/375 [==============================] - 13s 34ms/step - loss: 0.3987 - accuracy: 0.9628 - val_loss: 0.6268 - val_accuracy: 0.9617\n",
      "Epoch 96/100\n",
      "375/375 [==============================] - 12s 31ms/step - loss: 0.2886 - accuracy: 0.9651 - val_loss: 0.7031 - val_accuracy: 0.9650\n",
      "Epoch 97/100\n",
      "375/375 [==============================] - 11s 30ms/step - loss: 0.2626 - accuracy: 0.9674 - val_loss: 0.7805 - val_accuracy: 0.9632\n",
      "Epoch 98/100\n",
      "375/375 [==============================] - 12s 32ms/step - loss: 0.3823 - accuracy: 0.9664 - val_loss: 0.4847 - val_accuracy: 0.9642\n",
      "Epoch 99/100\n",
      "375/375 [==============================] - 11s 30ms/step - loss: 0.3325 - accuracy: 0.9556 - val_loss: 0.6935 - val_accuracy: 0.9595\n",
      "Epoch 100/100\n",
      "375/375 [==============================] - 12s 31ms/step - loss: 0.5134 - accuracy: 0.9517 - val_loss: 0.5038 - val_accuracy: 0.9632\n"
     ]
    }
   ],
   "source": [
    "history4 = mlp_r2.fit(\n",
    "  X_train_mlp, y_train_hot,\n",
    "  epochs = 100, batch_size = 128,\n",
    "  validation_split = 0.2\n",
    ")"
   ]
  },
  {
   "cell_type": "code",
   "execution_count": 84,
   "metadata": {},
   "outputs": [],
   "source": [
    "mlp_r2.save(\"mlp_r_v2.h5\")"
   ]
  },
  {
   "cell_type": "code",
   "execution_count": 82,
   "metadata": {},
   "outputs": [
    {
     "data": {
      "image/png": "[encoded data removed]",
      "text/plain": [
       "<Figure size 432x288 with 1 Axes>"
      ]
     },
     "metadata": {
      "needs_background": "light"
     },
     "output_type": "display_data"
    }
   ],
   "source": [
    "plot_history(history4)"
   ]
  },
  {
   "cell_type": "code",
   "execution_count": null,
   "metadata": {},
   "outputs": [],
   "source": [
    "mlp_r2 = load_model(\"mlp_r_v2.h5\")"
   ]
  },
  {
   "cell_type": "code",
   "execution_count": 83,
   "metadata": {},
   "outputs": [
    {
     "name": "stdout",
     "output_type": "stream",
     "text": [
      "313/313 [==============================] - 1s 3ms/step - loss: 1.2847 - accuracy: 0.9079\n",
      "Loss: 1.284730315208435, Accuracy: 0.9078999757766724\n"
     ]
    }
   ],
   "source": [
    "per_test4 = mlp_r2.evaluate(X_test_mlp, y_test_hot)\n",
    "print(\"Loss: {}, Accuracy: {}\".format(per_test4[0], per_test4[1]))"
   ]
  },
  {
   "cell_type": "code",
   "execution_count": 85,
   "metadata": {},
   "outputs": [],
   "source": [
    "pred_mlp = mlp_r2.predict(X_test_mlp)"
   ]
  },
  {
   "cell_type": "code",
   "execution_count": 86,
   "metadata": {},
   "outputs": [
    {
     "name": "stdout",
     "output_type": "stream",
     "text": [
      "              precision    recall  f1-score   support\n",
      "\n",
      "           o       0.93      0.94      0.94      1000\n",
      "          ki       0.92      0.90      0.91      1000\n",
      "          su       0.85      0.87      0.86      1000\n",
      "         tsu       0.80      0.97      0.88      1000\n",
      "          na       0.94      0.87      0.90      1000\n",
      "          ha       0.99      0.85      0.92      1000\n",
      "          ma       0.86      0.93      0.89      1000\n",
      "          ya       0.93      0.94      0.94      1000\n",
      "          re       0.94      0.92      0.93      1000\n",
      "          wo       0.96      0.89      0.93      1000\n",
      "\n",
      "    accuracy                           0.91     10000\n",
      "   macro avg       0.91      0.91      0.91     10000\n",
      "weighted avg       0.91      0.91      0.91     10000\n",
      "\n"
     ]
    }
   ],
   "source": [
    "print(classification_report(y_test_hot.values.argmax(axis=1),\n",
    "                            pred_mlp.argmax(axis=1),\n",
    "                            target_names=class_ref.values()))"
   ]
  },
  {
   "cell_type": "code",
   "execution_count": 87,
   "metadata": {},
   "outputs": [
    {
     "data": {
      "text/html": [
       "<div>\n",
       "<style scoped>\n",
       "    .dataframe tbody tr th:only-of-type {\n",
       "        vertical-align: middle;\n",
       "    }\n",
       "\n",
       "    .dataframe tbody tr th {\n",
       "        vertical-align: top;\n",
       "    }\n",
       "\n",
       "    .dataframe thead th {\n",
       "        text-align: right;\n",
       "    }\n",
       "</style>\n",
       "<table border=\"1\" class=\"dataframe\">\n",
       "  <thead>\n",
       "    <tr style=\"text-align: right;\">\n",
       "      <th></th>\n",
       "      <th>o</th>\n",
       "      <th>ki</th>\n",
       "      <th>su</th>\n",
       "      <th>tsu</th>\n",
       "      <th>na</th>\n",
       "      <th>ha</th>\n",
       "      <th>ma</th>\n",
       "      <th>ya</th>\n",
       "      <th>re</th>\n",
       "      <th>wo</th>\n",
       "    </tr>\n",
       "  </thead>\n",
       "  <tbody>\n",
       "    <tr>\n",
       "      <th>o</th>\n",
       "      <td>940</td>\n",
       "      <td>3</td>\n",
       "      <td>2</td>\n",
       "      <td>6</td>\n",
       "      <td>13</td>\n",
       "      <td>0</td>\n",
       "      <td>2</td>\n",
       "      <td>25</td>\n",
       "      <td>9</td>\n",
       "      <td>0</td>\n",
       "    </tr>\n",
       "    <tr>\n",
       "      <th>ki</th>\n",
       "      <td>5</td>\n",
       "      <td>898</td>\n",
       "      <td>16</td>\n",
       "      <td>21</td>\n",
       "      <td>2</td>\n",
       "      <td>0</td>\n",
       "      <td>43</td>\n",
       "      <td>3</td>\n",
       "      <td>7</td>\n",
       "      <td>5</td>\n",
       "    </tr>\n",
       "    <tr>\n",
       "      <th>su</th>\n",
       "      <td>9</td>\n",
       "      <td>5</td>\n",
       "      <td>870</td>\n",
       "      <td>63</td>\n",
       "      <td>6</td>\n",
       "      <td>4</td>\n",
       "      <td>17</td>\n",
       "      <td>11</td>\n",
       "      <td>9</td>\n",
       "      <td>6</td>\n",
       "    </tr>\n",
       "    <tr>\n",
       "      <th>tsu</th>\n",
       "      <td>2</td>\n",
       "      <td>3</td>\n",
       "      <td>15</td>\n",
       "      <td>969</td>\n",
       "      <td>1</td>\n",
       "      <td>1</td>\n",
       "      <td>2</td>\n",
       "      <td>3</td>\n",
       "      <td>4</td>\n",
       "      <td>0</td>\n",
       "    </tr>\n",
       "    <tr>\n",
       "      <th>na</th>\n",
       "      <td>20</td>\n",
       "      <td>13</td>\n",
       "      <td>10</td>\n",
       "      <td>33</td>\n",
       "      <td>866</td>\n",
       "      <td>2</td>\n",
       "      <td>24</td>\n",
       "      <td>10</td>\n",
       "      <td>18</td>\n",
       "      <td>4</td>\n",
       "    </tr>\n",
       "    <tr>\n",
       "      <th>ha</th>\n",
       "      <td>3</td>\n",
       "      <td>15</td>\n",
       "      <td>52</td>\n",
       "      <td>25</td>\n",
       "      <td>3</td>\n",
       "      <td>853</td>\n",
       "      <td>31</td>\n",
       "      <td>2</td>\n",
       "      <td>6</td>\n",
       "      <td>10</td>\n",
       "    </tr>\n",
       "    <tr>\n",
       "      <th>ma</th>\n",
       "      <td>3</td>\n",
       "      <td>7</td>\n",
       "      <td>29</td>\n",
       "      <td>13</td>\n",
       "      <td>8</td>\n",
       "      <td>1</td>\n",
       "      <td>932</td>\n",
       "      <td>4</td>\n",
       "      <td>1</td>\n",
       "      <td>2</td>\n",
       "    </tr>\n",
       "    <tr>\n",
       "      <th>ya</th>\n",
       "      <td>7</td>\n",
       "      <td>5</td>\n",
       "      <td>9</td>\n",
       "      <td>17</td>\n",
       "      <td>4</td>\n",
       "      <td>1</td>\n",
       "      <td>11</td>\n",
       "      <td>940</td>\n",
       "      <td>1</td>\n",
       "      <td>5</td>\n",
       "    </tr>\n",
       "    <tr>\n",
       "      <th>re</th>\n",
       "      <td>6</td>\n",
       "      <td>12</td>\n",
       "      <td>12</td>\n",
       "      <td>33</td>\n",
       "      <td>0</td>\n",
       "      <td>0</td>\n",
       "      <td>15</td>\n",
       "      <td>2</td>\n",
       "      <td>919</td>\n",
       "      <td>1</td>\n",
       "    </tr>\n",
       "    <tr>\n",
       "      <th>wo</th>\n",
       "      <td>12</td>\n",
       "      <td>13</td>\n",
       "      <td>11</td>\n",
       "      <td>30</td>\n",
       "      <td>17</td>\n",
       "      <td>0</td>\n",
       "      <td>11</td>\n",
       "      <td>8</td>\n",
       "      <td>6</td>\n",
       "      <td>892</td>\n",
       "    </tr>\n",
       "  </tbody>\n",
       "</table>\n",
       "</div>"
      ],
      "text/plain": [
       "       o   ki   su  tsu   na   ha   ma   ya   re   wo\n",
       "o    940    3    2    6   13    0    2   25    9    0\n",
       "ki     5  898   16   21    2    0   43    3    7    5\n",
       "su     9    5  870   63    6    4   17   11    9    6\n",
       "tsu    2    3   15  969    1    1    2    3    4    0\n",
       "na    20   13   10   33  866    2   24   10   18    4\n",
       "ha     3   15   52   25    3  853   31    2    6   10\n",
       "ma     3    7   29   13    8    1  932    4    1    2\n",
       "ya     7    5    9   17    4    1   11  940    1    5\n",
       "re     6   12   12   33    0    0   15    2  919    1\n",
       "wo    12   13   11   30   17    0   11    8    6  892"
      ]
     },
     "execution_count": 87,
     "metadata": {},
     "output_type": "execute_result"
    }
   ],
   "source": [
    "pd.DataFrame(\n",
    "    confusion_matrix(\n",
    "        y_test_hot.values.argmax(axis=1)\n",
    "        ,pred_mlp.argmax(axis=1)\n",
    "    ),\n",
    "    index = class_ref.values(),\n",
    "    columns = class_ref.values()\n",
    ")"
   ]
  },
  {
   "cell_type": "markdown",
   "metadata": {},
   "source": [
    "### Logistic Regression"
   ]
  },
  {
   "cell_type": "code",
   "execution_count": 93,
   "metadata": {},
   "outputs": [
    {
     "name": "stderr",
     "output_type": "stream",
     "text": [
      "C:\\Users\\Arnald\\anaconda3\\envs\\Python_General\\lib\\site-packages\\sklearn\\linear_model\\_logistic.py:763: ConvergenceWarning: lbfgs failed to converge (status=1):\n",
      "STOP: TOTAL NO. of ITERATIONS REACHED LIMIT.\n",
      "\n",
      "Increase the number of iterations (max_iter) or scale the data as shown in:\n",
      "    https://scikit-learn.org/stable/modules/preprocessing.html\n",
      "Please also refer to the documentation for alternative solver options:\n",
      "    https://scikit-learn.org/stable/modules/linear_model.html#logistic-regression\n",
      "  n_iter_i = _check_optimize_result(\n"
     ]
    }
   ],
   "source": [
    "log = LogisticRegression(max_iter=1000).fit(X_train_mlp, y_train)"
   ]
  },
  {
   "cell_type": "markdown",
   "metadata": {},
   "source": [
    "### Random Forest"
   ]
  },
  {
   "cell_type": "code",
   "execution_count": 95,
   "metadata": {},
   "outputs": [],
   "source": [
    "rf = RandomForestClassifier(n_estimators = 200, n_jobs=8).fit(X_train_mlp, y_train)"
   ]
  },
  {
   "cell_type": "code",
   "execution_count": 97,
   "metadata": {},
   "outputs": [],
   "source": [
    "pred_rf = rf.predict(X_test_mlp)\n",
    "t_rf = confusion_matrix(y_test, pred_rf)"
   ]
  },
  {
   "cell_type": "code",
   "execution_count": 104,
   "metadata": {},
   "outputs": [
    {
     "data": {
      "text/html": [
       "<div>\n",
       "<style scoped>\n",
       "    .dataframe tbody tr th:only-of-type {\n",
       "        vertical-align: middle;\n",
       "    }\n",
       "\n",
       "    .dataframe tbody tr th {\n",
       "        vertical-align: top;\n",
       "    }\n",
       "\n",
       "    .dataframe thead th {\n",
       "        text-align: right;\n",
       "    }\n",
       "</style>\n",
       "<table border=\"1\" class=\"dataframe\">\n",
       "  <thead>\n",
       "    <tr style=\"text-align: right;\">\n",
       "      <th></th>\n",
       "      <th>o</th>\n",
       "      <th>ki</th>\n",
       "      <th>su</th>\n",
       "      <th>tsu</th>\n",
       "      <th>na</th>\n",
       "      <th>ha</th>\n",
       "      <th>ma</th>\n",
       "      <th>ya</th>\n",
       "      <th>re</th>\n",
       "      <th>wo</th>\n",
       "    </tr>\n",
       "  </thead>\n",
       "  <tbody>\n",
       "    <tr>\n",
       "      <th>o</th>\n",
       "      <td>883</td>\n",
       "      <td>2</td>\n",
       "      <td>1</td>\n",
       "      <td>2</td>\n",
       "      <td>21</td>\n",
       "      <td>15</td>\n",
       "      <td>1</td>\n",
       "      <td>43</td>\n",
       "      <td>28</td>\n",
       "      <td>4</td>\n",
       "    </tr>\n",
       "    <tr>\n",
       "      <th>ki</th>\n",
       "      <td>6</td>\n",
       "      <td>861</td>\n",
       "      <td>22</td>\n",
       "      <td>1</td>\n",
       "      <td>20</td>\n",
       "      <td>4</td>\n",
       "      <td>52</td>\n",
       "      <td>3</td>\n",
       "      <td>11</td>\n",
       "      <td>20</td>\n",
       "    </tr>\n",
       "    <tr>\n",
       "      <th>su</th>\n",
       "      <td>9</td>\n",
       "      <td>25</td>\n",
       "      <td>831</td>\n",
       "      <td>37</td>\n",
       "      <td>11</td>\n",
       "      <td>6</td>\n",
       "      <td>29</td>\n",
       "      <td>15</td>\n",
       "      <td>18</td>\n",
       "      <td>19</td>\n",
       "    </tr>\n",
       "    <tr>\n",
       "      <th>tsu</th>\n",
       "      <td>4</td>\n",
       "      <td>12</td>\n",
       "      <td>12</td>\n",
       "      <td>944</td>\n",
       "      <td>2</td>\n",
       "      <td>0</td>\n",
       "      <td>2</td>\n",
       "      <td>2</td>\n",
       "      <td>6</td>\n",
       "      <td>16</td>\n",
       "    </tr>\n",
       "    <tr>\n",
       "      <th>na</th>\n",
       "      <td>47</td>\n",
       "      <td>28</td>\n",
       "      <td>13</td>\n",
       "      <td>13</td>\n",
       "      <td>823</td>\n",
       "      <td>2</td>\n",
       "      <td>19</td>\n",
       "      <td>11</td>\n",
       "      <td>38</td>\n",
       "      <td>6</td>\n",
       "    </tr>\n",
       "    <tr>\n",
       "      <th>ha</th>\n",
       "      <td>6</td>\n",
       "      <td>20</td>\n",
       "      <td>77</td>\n",
       "      <td>12</td>\n",
       "      <td>12</td>\n",
       "      <td>832</td>\n",
       "      <td>28</td>\n",
       "      <td>1</td>\n",
       "      <td>8</td>\n",
       "      <td>4</td>\n",
       "    </tr>\n",
       "    <tr>\n",
       "      <th>ma</th>\n",
       "      <td>3</td>\n",
       "      <td>19</td>\n",
       "      <td>21</td>\n",
       "      <td>3</td>\n",
       "      <td>22</td>\n",
       "      <td>1</td>\n",
       "      <td>916</td>\n",
       "      <td>5</td>\n",
       "      <td>3</td>\n",
       "      <td>7</td>\n",
       "    </tr>\n",
       "    <tr>\n",
       "      <th>ya</th>\n",
       "      <td>10</td>\n",
       "      <td>31</td>\n",
       "      <td>13</td>\n",
       "      <td>3</td>\n",
       "      <td>86</td>\n",
       "      <td>1</td>\n",
       "      <td>18</td>\n",
       "      <td>765</td>\n",
       "      <td>50</td>\n",
       "      <td>23</td>\n",
       "    </tr>\n",
       "    <tr>\n",
       "      <th>re</th>\n",
       "      <td>7</td>\n",
       "      <td>25</td>\n",
       "      <td>8</td>\n",
       "      <td>22</td>\n",
       "      <td>1</td>\n",
       "      <td>8</td>\n",
       "      <td>17</td>\n",
       "      <td>2</td>\n",
       "      <td>905</td>\n",
       "      <td>5</td>\n",
       "    </tr>\n",
       "    <tr>\n",
       "      <th>wo</th>\n",
       "      <td>10</td>\n",
       "      <td>14</td>\n",
       "      <td>32</td>\n",
       "      <td>3</td>\n",
       "      <td>35</td>\n",
       "      <td>1</td>\n",
       "      <td>0</td>\n",
       "      <td>39</td>\n",
       "      <td>13</td>\n",
       "      <td>853</td>\n",
       "    </tr>\n",
       "  </tbody>\n",
       "</table>\n",
       "</div>"
      ],
      "text/plain": [
       "       o   ki   su  tsu   na   ha   ma   ya   re   wo\n",
       "o    883    2    1    2   21   15    1   43   28    4\n",
       "ki     6  861   22    1   20    4   52    3   11   20\n",
       "su     9   25  831   37   11    6   29   15   18   19\n",
       "tsu    4   12   12  944    2    0    2    2    6   16\n",
       "na    47   28   13   13  823    2   19   11   38    6\n",
       "ha     6   20   77   12   12  832   28    1    8    4\n",
       "ma     3   19   21    3   22    1  916    5    3    7\n",
       "ya    10   31   13    3   86    1   18  765   50   23\n",
       "re     7   25    8   22    1    8   17    2  905    5\n",
       "wo    10   14   32    3   35    1    0   39   13  853"
      ]
     },
     "execution_count": 104,
     "metadata": {},
     "output_type": "execute_result"
    }
   ],
   "source": [
    "pd.DataFrame(t_rf, index = class_ref.values(), columns = class_ref.values())"
   ]
  },
  {
   "cell_type": "code",
   "execution_count": 105,
   "metadata": {},
   "outputs": [
    {
     "data": {
      "text/plain": [
       "0.8613"
      ]
     },
     "execution_count": 105,
     "metadata": {},
     "output_type": "execute_result"
    }
   ],
   "source": [
    "print_acc(t_rf)"
   ]
  }
 ],
 "metadata": {
  "jupytext": {
   "formats": "ipynb,py:light"
  },
  "kernelspec": {
   "display_name": "Python 3",
   "language": "python",
   "name": "python3"
  },
  "language_info": {
   "codemirror_mode": {
    "name": "ipython",
    "version": 3
   },
   "file_extension": ".py",
   "mimetype": "text/x-python",
   "name": "python",
   "nbconvert_exporter": "python",
   "pygments_lexer": "ipython3",
   "version": "3.8.5"
  }
 },
 "nbformat": 4,
 "nbformat_minor": 4
}
